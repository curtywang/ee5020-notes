{
 "cells": [
  {
   "cell_type": "markdown",
   "id": "c79101c9-2565-43ef-91ec-48c1708aa498",
   "metadata": {
    "tags": []
   },
   "source": [
    "# EE 5020 Module 2 Project: Simulation and Optimization to solve a Design Problem\n",
    "\n",
    "Name: \n",
    "\n",
    "CIN: "
   ]
  },
  {
   "cell_type": "markdown",
   "id": "eadbb6dc-7e5b-4de4-bd5c-da7ea124999a",
   "metadata": {
    "tags": []
   },
   "source": [
    "## Project Overview\n",
    "\n",
    "In this project, you will pick a design problem from your discipline that involves creating a simulation, then running an optimization on one of the parameters, to design some type of solution.\n",
    "\n",
    "## Rubric for this project\n",
    "\n",
    "**Make sure you write down the reasoning and justification for any Python code cells created.**  The Python code is only there to support you computationally for your simulation and optimization analyses. Additionally, make sure to justify any conclusions you make to answer questions with quantitative reasoning.\n",
    "\n",
    "Grading breakdown:\n",
    "\n",
    "- 25% organization and flow of simulation analysis (including random variable distributions)\n",
    "- 25% correct simulation code\n",
    "- 25% optimization setup (identification of parameters and coding of problem)\n",
    "- 25% correct optimization result\n",
    "\n",
    "**[Click here to watch a video about Academic Dishonesty in the Electrical and Computer Engineering Department](https://calstatela.zoom.us/rec/share/xWIpPJA8P5itIqGmXv5zjDcHfFO5Qi8hjURVGhkZ7adpwfxDas_6Kd6KdhcDTlAk.a2p_HGobNOEEwXNZ?startTime=1633466851000)**\n",
    "\n",
    "**Any cheating or academic dishonesty with this homework will result in an automatic zero grade and referral to the College for discipline, including dismissal from the graduate program.**\n",
    "\n",
    "Please refer to the [Student Handbook](https://www.calstatela.edu/studentconduct/california-code-regulations-standards-student-conduct) for more information."
   ]
  },
  {
   "cell_type": "markdown",
   "id": "59fec8ab-0734-4b1b-af31-bca0884cd8c2",
   "metadata": {
    "tags": []
   },
   "source": [
    "## Global imports\n",
    "\n",
    "Write your imports here so you don't have to write imports below."
   ]
  },
  {
   "cell_type": "code",
   "execution_count": null,
   "id": "8ab98770-ea96-49d8-aa0b-b5331c0f956b",
   "metadata": {},
   "outputs": [],
   "source": []
  },
  {
   "cell_type": "markdown",
   "id": "988133d4-08e6-4f7d-8920-7c941a6e56c7",
   "metadata": {},
   "source": [
    "## Problem choices\n",
    "\n",
    "Choose the _one_ design problem below from your discipline, then delete the rest of the problems.  You must solve the problem using some type of simulation (such as an initial value problem or discrete event simulation) and some type of optimization (real, integer, or mixed-integer).  \n",
    "\n",
    "**Make sure to state any assumptions you are making with your simulation and optimization methods.** For instance, if you are performing integer optimization, make sure to state why the parameter you are optimizing has to be integral."
   ]
  },
  {
   "cell_type": "markdown",
   "id": "27ddd42c-b8bf-48af-8771-882074bd5f1e",
   "metadata": {
    "tags": []
   },
   "source": [
    "### Biomedical Engineering\n",
    "\n",
    "**Write and discuss the steps to answering the following research question:** Alcohol concentration in the bloodstream can be modeled using first-order absorption and zero-order elimination kinetics.  This means that if we were to use a differential equation to model the concentration $C$ curve (rate of absorption/elimination), then:\n",
    "- elimination $\\beta$ is a constant term\n",
    "- absorption $\\alpha$ constant is raised to an exponential time term\n",
    "\n",
    "Such that our ordinary differential equation is: $\\frac{dC}{dt} = D \\alpha e^{-\\alpha t} - \\beta$\n",
    "\n",
    "Dosage $D$ is in $\\frac{g}{kg}$, BAC (Blood Alcohol Concentration) $C$ is in $\\frac{mg}{mL}$, and time is in hours.  Assume that $D = 0.5 \\frac{g}{kg}$, $\\beta = 0.1$, and the initial concentration is $C_0 = 0.0 \\frac{mg}{mL}$.  We want to design a device that can help absorb some of the alcohol such that the maximal BAC hits at exactly one hour.  To model this effect, assume that $\\alpha = \\alpha_h + \\alpha_m$, where $\\alpha_h = 1.0$.  What value of $\\alpha_m$ should this device have?"
   ]
  },
  {
   "cell_type": "code",
   "execution_count": null,
   "id": "82007497-4102-4a58-86f8-7cd9d24bc124",
   "metadata": {},
   "outputs": [],
   "source": []
  },
  {
   "cell_type": "markdown",
   "id": "e067863a-835e-45fb-a9a3-93212b20aa97",
   "metadata": {},
   "source": [
    "## Communications and Computer Engineering\n",
    "\n",
    "**Write and discuss the steps to answering the following research question:** A crossbar, used in both communications and computer engineering, is a type of switch that allows for multiple input lines and multiple output lines to form any set of connections (alternatively called a matrix switch). A crossbar can be modeled in many different ways, including with discrete event simulation. In this problem, we can discrete event simulation (via SimPy) to simulate the crossbar switch, such that we can use optimization methods to find optimal crossbar design parameters. \n",
    "\n",
    "We will use a smaller crossbar with just one `Resource` that has 4 slots.  In a more complex simulation, we could just add `PriorityResource` objects, such that the number of `PriorityResource` objects is the same number as the outputs, and have some more complex behavior around multiple process being able to request the same resource at one time.  In this problem, though, we'll just keep it simple, again just one standard `Resource` with 4 slots.\n",
    "\n",
    "Our crossbar can be modeled using a process that has the following properties:\n",
    "- $X_c$: The time for the crossbar to connect, modeled as a continuous random variable $\\sim foldnorm(\\mu_c, \\sigma)$\n",
    "- $X_a$: The time the connection requires to complete its action, modeled as a continuous random variable $\\sim exp(\\lambda_a)$\n",
    "- $X_d$: The time for the crossbar to disconnect, modeled as a continuous random variable $\\sim foldnorm(\\mu_d, \\sigma)$\n",
    "\n",
    "All of the time is in nanoseconds. Assume that the crossbar is held for the entire time since the start of the process. Assume that $\\mu_c = 0.3$, $\\mu_d = 0.1$, and $\\lambda_a = 2.5$. Create 1000 processes so that we can check the maximum throughput of our crossbar switch and assume all processes are enqueued at the same time ($t = 0$).\n",
    "\n",
    "What is the value of the standard deviation for $\\sigma$ that yields the highest number of messages to be sent through the switch in 10 nanoseconds?"
   ]
  },
  {
   "cell_type": "code",
   "execution_count": null,
   "id": "dd2c16b4-8815-4415-abb9-ec0771d235f6",
   "metadata": {},
   "outputs": [],
   "source": []
  },
  {
   "cell_type": "markdown",
   "id": "0e28218d-2369-425d-b747-4704fdb6c386",
   "metadata": {},
   "source": [
    "## Power Engineering"
   ]
  },
  {
   "cell_type": "markdown",
   "id": "f264bfd1-96af-4147-9897-3e137f7e1558",
   "metadata": {},
   "source": [
    "**Write and discuss the steps to answering the following research question:** We would like to optimize the angular speed of a simplified physical model of a DC motor system. The system is an AC voltage source connected in series with a resistor, inductor, and the motor itself.  Thus, we arrive at the following pair of differential equations:\n",
    "\n",
    "$\\frac{d\\omega}{dt} = \\frac{1}{J_m} (i_a K_t - C \\omega)$\n",
    "\n",
    "$\\frac{di}{dt} = \\frac{1}{L} (v(t) - K_e \\omega - R i)$\n",
    "\n",
    "In the above equations, $\\omega$ is the angular velocity (rads per second), $i$ is the current around the circuit (amps), $J_m$ is the inertia mass of the motor (kilograms-square meters), $C$ is the resistance to torque (Newton-meter-seconds), $K_e$ is the EMF constant (Newton-meters per amp), $K_t$ is the torque constant (Newton-meters per amp), $R$ is the resistor resistance (ohms), and $L$ is the inductor inductance (henrys). Time is on the order of seconds.\n",
    "\n",
    "The initial conditions are 0.0 for both $\\omega(t)$ and $i(t)$. If $J_m = 0.01$, $C = 0.1$, $K_e = 0.01$, $K_t = 1.0$, $L = 0.5$, and $v(t) = 12 \\sin(t)$, what is the value of $R$ that would give a maximum $\\omega(t)$ closest to 1000.0 rads per second?\n",
    "\n",
    "**NOTE:** To compute v(t) at a given time step inside your derivative function, pass the amplitude as an argument to the derivative function, and then just multiply the amplitude by `np.sin(t)` inside your derivative function.\n"
   ]
  },
  {
   "cell_type": "code",
   "execution_count": null,
   "id": "21bc3460-c09a-4486-9876-20c56b84a8ca",
   "metadata": {},
   "outputs": [],
   "source": []
  }
 ],
 "metadata": {
  "kernelspec": {
   "display_name": "Python 3",
   "language": "python",
   "name": "python3"
  },
  "language_info": {
   "codemirror_mode": {
    "name": "ipython",
    "version": 3
   },
   "file_extension": ".py",
   "mimetype": "text/x-python",
   "name": "python",
   "nbconvert_exporter": "python",
   "pygments_lexer": "ipython3",
   "version": "3.9.7"
  },
  "toc-autonumbering": true
 },
 "nbformat": 4,
 "nbformat_minor": 5
}
