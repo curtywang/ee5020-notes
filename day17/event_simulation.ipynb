{
 "cells": [
  {
   "cell_type": "markdown",
   "id": "f350cfa6-e5d5-4ec1-9725-de7c85ec93b1",
   "metadata": {},
   "source": [
    "# Event-based Simulation with SimPy"
   ]
  },
  {
   "cell_type": "code",
   "execution_count": 2,
   "id": "88c96fd6-714e-4206-9170-6457bf0da069",
   "metadata": {},
   "outputs": [],
   "source": [
    "import simpy as sp\n",
    "import numpy as np\n",
    "import scipy.stats"
   ]
  },
  {
   "cell_type": "markdown",
   "id": "8c1075ba-48e3-4797-9ebe-ea3d400aa385",
   "metadata": {},
   "source": [
    "## SimPy Basics\n",
    "\n",
    "SimPy has a few basic concepts to let you perform event-based simulation:\n",
    "1. **Environment:** think of this as \"the world\" in which your simulation occurs\n",
    "2. **Event:** an event that occurs in the environment -- it can be a happening, from time ticking to an action occurring\n",
    "3. **Process:** described by Python generator functions -- they create events and `yield` (yeet) them out to the world\n",
    "4. **Timeout:** a special time-based event, that describes how long it takes for an event to occur (assumed units)\n",
    "5. **Resource:** an object representing a resource that can be acquired or released by Processes (gas station with limited fuel pumps)\n",
    "6. **Container:** an object representing a resource that can be produced or consumed (like electrical power or apples)\n",
    "7. **Store:** an object representing a store that can replenish or sell its items (dynamic quantities)\n",
    "\n",
    "One thing that is key about event-based simulation is that, much like embedded systems, all processes are **interruptible** by priority, meaning that processes can be at different priorities (just like real life).\n",
    "\n",
    "If you need to yield multiple events (actions) at a time, use the `&` operator.  If you need to yield at least one event (whichever event is closest), use the `|` operator."
   ]
  },
  {
   "cell_type": "markdown",
   "id": "c44bdc8e-3c30-4a78-9c90-2dea976c2d40",
   "metadata": {},
   "source": [
    "### DMV customer example\n",
    "\n",
    "Just to show everything in context, I'll modify the [Bank example](https://simpy.readthedocs.io/en/latest/examples/bank_renege.html) to the DMV:"
   ]
  },
  {
   "cell_type": "code",
   "execution_count": 13,
   "id": "746a1f55-af1e-4879-991d-eb234933f1dd",
   "metadata": {},
   "outputs": [
    {
     "name": "stdout",
     "output_type": "stream",
     "text": [
      "SIMULATION: DMV in all of its glory (time units are minutes)\n",
      "at time  0.0000, Customer00 arrived\n",
      "at time  0.0000, Customer00 waited  0.000\n",
      "at time 24.0421, Customer01 arrived\n",
      "at time 26.8400, Customer02 arrived\n",
      "at time 28.6171, Customer00 finished their transactions\n",
      "at time 28.6171, Customer01 waited  4.575\n",
      "at time 41.3666, Customer03 arrived\n",
      "at time 42.1596, Customer04 arrived\n",
      "at time 42.8639, Customer05 arrived\n",
      "at time 59.6742, Customer02 left the line after waiting 32.834 minutes\n",
      "at time 60.1772, Customer06 arrived\n",
      "at time 64.8782, Customer03 left the line after waiting 23.512 minutes\n",
      "at time 66.1087, Customer01 finished their transactions\n",
      "at time 66.1087, Customer04 waited 23.949\n",
      "at time 67.2076, Customer04 finished their transactions\n",
      "at time 67.2076, Customer05 waited 24.344\n",
      "at time 70.9898, Customer05 finished their transactions\n",
      "at time 70.9898, Customer06 waited 10.813\n",
      "at time 72.4931, Customer07 arrived\n",
      "at time 76.6229, Customer08 arrived\n",
      "at time 78.8587, Customer09 arrived\n",
      "at time 81.8042, Customer06 finished their transactions\n",
      "at time 81.8042, Customer07 waited  9.311\n",
      "at time 86.8092, Customer07 finished their transactions\n",
      "at time 86.8092, Customer08 waited 10.186\n",
      "at time 92.2490, Customer08 finished their transactions\n",
      "at time 92.2490, Customer09 waited 13.390\n",
      "at time 93.1740, Customer09 finished their transactions\n"
     ]
    }
   ],
   "source": [
    "RANDOM_SEED = 42\n",
    "NEW_CUSTOMERS = 10  # Total number of customers\n",
    "INTERVAL_CUSTOMERS = 10.0  # Generate new customers roughly every x seconds\n",
    "MIN_PATIENCE = 10  # Min. customer patience\n",
    "MAX_PATIENCE = 40  # Max. customer patience\n",
    "\n",
    "\n",
    "def source(env, number, interval, counter, the_rng):\n",
    "    \"\"\"Source generates customers randomly\"\"\"\n",
    "    for i in range(number):\n",
    "        c = customer(env, 'Customer%02d' % i, counter, 12.0, the_rng)\n",
    "        env.process(c)\n",
    "        t = the_rng.exponential(interval)\n",
    "        yield env.timeout(t)\n",
    "\n",
    "\n",
    "def customer(env, name, counter, time_in_bank, the_rng):\n",
    "    \"\"\"Customer arrives, is served and leaves.\"\"\"\n",
    "    arrive = env.now\n",
    "    print('at time %7.4f, %s arrived' % (arrive, name))\n",
    "\n",
    "    with counter.request() as req:\n",
    "        patience = the_rng.uniform(MIN_PATIENCE, MAX_PATIENCE)\n",
    "        # Wait for the counter or abort at the end of our tether\n",
    "        results = yield req | env.timeout(patience)\n",
    "\n",
    "        wait = env.now - arrive\n",
    "\n",
    "        if req in results:\n",
    "            # We got to the counter\n",
    "            print('at time %7.4f, %s waited %6.3f' % (env.now, name, wait))\n",
    "\n",
    "            tib = the_rng.exponential(time_in_bank)\n",
    "            yield env.timeout(tib)\n",
    "            print('at time %7.4f, %s finished their transactions' % (env.now, name))\n",
    "\n",
    "        else:\n",
    "            # We reneged\n",
    "            print('at time %7.4f, %s left the line after waiting %6.3f minutes' % (env.now, name, wait))\n",
    "\n",
    "\n",
    "# Setup and start the simulation\n",
    "print('SIMULATION: DMV in all of its glory (time units are minutes)')\n",
    "the_rng = np.random.default_rng(RANDOM_SEED)\n",
    "env = sp.Environment()\n",
    "\n",
    "# Start processes and run\n",
    "counter = sp.Resource(env, capacity=1)\n",
    "env.process(source(env, NEW_CUSTOMERS, INTERVAL_CUSTOMERS, counter, the_rng))\n",
    "env.run()"
   ]
  },
  {
   "cell_type": "markdown",
   "id": "298b8c2b-41a4-4b6d-b6d3-348f88d07b15",
   "metadata": {},
   "source": [
    "### Sample SimPy problem\n",
    "\n",
    "Let's perform a simulation of four electric cars (EV, electric vehicles) trying to drive to and use a battery charging station. A car will perform three actions:\n",
    "1. Driving to the EV charging station (accept the driving time as an input parameter).\n",
    "2. Request/acquire a charging spot.\n",
    "3. Charge the battery (accept the time it takes to charge the battery as an input parameter).\n",
    "\n",
    "Define the charging station as only having two spots, so we have a likely chance of at least one car waiting for charging to complete.\n",
    "Let's use a uniform distribution between 2 and 6 miles to model the distance each car has to drive in order to reach the EV charging station. Let's also assume that the cars can drive 35 miles per hour to reach the charging station.  Let's also use a uniform distribution to model the number of minutes that each car has to charge, from 30 minutes to 90 minutes.\n",
    "\n",
    "LPT: Don't forget the random seed!"
   ]
  },
  {
   "cell_type": "code",
   "execution_count": 22,
   "id": "122ae4a2-b39f-4fe7-9d95-757fc9e5f726",
   "metadata": {},
   "outputs": [],
   "source": [
    "DISTANCE_MIN = 2  # miles\n",
    "DISTANCE_MAX = 6  # miles\n",
    "NUM_OF_CARS = 8  # cars\n",
    "DRIVING_SPEED = 35  # miles per hour\n",
    "CHARGING_MIN = 30  # mins\n",
    "CHARGING_MAX = 90  # mins\n",
    "CHARGING_SPOTS = 3\n",
    "RANDOM_SEED = 7\n",
    "\n",
    "\n",
    "def create_cars(env: sp.Environment, charging_station: sp.Resource,\n",
    "                rng: np.random.Generator,\n",
    "                number_of_cars: int, driving_distance_min: float,\n",
    "                driving_distance_max: float, driving_speed: float,\n",
    "                car_charging_min: float, car_charging_max: float):\n",
    "    for car_id in range(number_of_cars):\n",
    "        charging_time = rng.uniform(car_charging_min, car_charging_max)\n",
    "        driving_distance = rng.uniform(driving_distance_min, driving_distance_max)\n",
    "        driving_time = 60 * driving_distance / driving_speed  # convert hours to minutes\n",
    "        env.process(electric_car(env, charging_station, car_id, driving_time, charging_time))\n",
    "    print(f\"At {env.now}, all cars have been added to the environment.\")\n",
    "\n",
    "\n",
    "def electric_car(env: sp.Environment, charging_station: sp.Resource,\n",
    "                 name: str, driving_time: float, charging_time: float):\n",
    "    print(f\"At {env.now:.2f}, Car {name} with t_drive {driving_time:.2f} and t_charge {charging_time:.2f} has spawned.\")\n",
    "    print(f\"At {env.now:.2f}, Car {name} is driving to the EV charging station.\")\n",
    "    yield env.timeout(driving_time)  # 1. driving to the station\n",
    "    \n",
    "    with charging_station.request() as charging_spot:  # 2a. request/acquire a charging spot\n",
    "        wait_start = env.now\n",
    "        print(f\"At {env.now:.2f}, Car {name} is waiting for an EV charging spot.\")\n",
    "        yield charging_spot  # 2b. wait for an available EV charging spot\n",
    "        \n",
    "        wait_completed = env.now\n",
    "        wait_duration = wait_completed - wait_start\n",
    "        print(f\"At {env.now:.2f}, Car {name} has acquired an EV charging spot after waiting {wait_duration:.2f}.\")\n",
    "        yield env.timeout(charging_time)  # 3. charge the battery\n",
    "        \n",
    "    print(f\"At {env.now:.2f}, Car {name} has finished charging and has left.\")"
   ]
  },
  {
   "cell_type": "code",
   "execution_count": 23,
   "id": "bb46fdc6-8c82-4bb6-96f7-d7060bc936a9",
   "metadata": {},
   "outputs": [
    {
     "name": "stdout",
     "output_type": "stream",
     "text": [
      "At 0, all cars have been added to the environment.\n",
      "At 0.00, Car 0 with t_drive 9.58 and t_charge 67.51 has spawned.\n",
      "At 0.00, Car 0 is driving to the EV charging station.\n",
      "At 0.00, Car 1 with t_drive 4.97 and t_charge 76.54 has spawned.\n",
      "At 0.00, Car 1 is driving to the EV charging station.\n",
      "At 0.00, Car 2 with t_drive 9.42 and t_charge 48.01 has spawned.\n",
      "At 0.00, Car 2 is driving to the EV charging station.\n",
      "At 0.00, Car 3 with t_drive 9.06 and t_charge 30.32 has spawned.\n",
      "At 0.00, Car 3 is driving to the EV charging station.\n",
      "At 0.00, Car 4 with t_drive 6.64 and t_charge 77.82 has spawned.\n",
      "At 0.00, Car 4 is driving to the EV charging station.\n",
      "At 0.00, Car 5 with t_drive 5.34 and t_charge 48.18 has spawned.\n",
      "At 0.00, Car 5 is driving to the EV charging station.\n",
      "At 0.00, Car 6 with t_drive 6.48 and t_charge 45.29 has spawned.\n",
      "At 0.00, Car 6 is driving to the EV charging station.\n",
      "At 0.00, Car 7 with t_drive 7.22 and t_charge 60.27 has spawned.\n",
      "At 0.00, Car 7 is driving to the EV charging station.\n",
      "At 4.97, Car 1 is waiting for an EV charging spot.\n",
      "At 4.97, Car 1 has acquired an EV charging spot after waiting 0.00.\n",
      "At 5.34, Car 5 is waiting for an EV charging spot.\n",
      "At 5.34, Car 5 has acquired an EV charging spot after waiting 0.00.\n",
      "At 6.48, Car 6 is waiting for an EV charging spot.\n",
      "At 6.48, Car 6 has acquired an EV charging spot after waiting 0.00.\n",
      "At 6.64, Car 4 is waiting for an EV charging spot.\n",
      "At 7.22, Car 7 is waiting for an EV charging spot.\n",
      "At 9.06, Car 3 is waiting for an EV charging spot.\n",
      "At 9.42, Car 2 is waiting for an EV charging spot.\n",
      "At 9.58, Car 0 is waiting for an EV charging spot.\n",
      "At 51.77, Car 6 has finished charging and has left.\n",
      "At 51.77, Car 4 has acquired an EV charging spot after waiting 45.14.\n",
      "At 53.52, Car 5 has finished charging and has left.\n",
      "At 53.52, Car 7 has acquired an EV charging spot after waiting 46.30.\n",
      "At 81.51, Car 1 has finished charging and has left.\n",
      "At 81.51, Car 3 has acquired an EV charging spot after waiting 72.45.\n",
      "At 111.83, Car 3 has finished charging and has left.\n",
      "At 111.83, Car 2 has acquired an EV charging spot after waiting 102.41.\n",
      "At 113.79, Car 7 has finished charging and has left.\n",
      "At 113.79, Car 0 has acquired an EV charging spot after waiting 104.21.\n",
      "At 129.60, Car 4 has finished charging and has left.\n",
      "At 159.84, Car 2 has finished charging and has left.\n",
      "At 181.30, Car 0 has finished charging and has left.\n"
     ]
    }
   ],
   "source": [
    "the_rng = np.random.default_rng(RANDOM_SEED)\n",
    "the_env = sp.Environment()\n",
    "the_charging_station = sp.Resource(the_env, capacity=CHARGING_SPOTS)\n",
    "create_cars(the_env, the_charging_station, the_rng, NUM_OF_CARS,\n",
    "            DISTANCE_MIN, DISTANCE_MAX, DRIVING_SPEED,\n",
    "            CHARGING_MIN, CHARGING_MAX)\n",
    "the_env.run()"
   ]
  },
  {
   "cell_type": "markdown",
   "id": "7757a8c4-e550-4326-bcfb-39aa543c815e",
   "metadata": {},
   "source": [
    "## Handling priorities and interrupts\n",
    "\n",
    "Let's bump the EV charging simulation up now, to 10 cars, and pretend that a couple of the cars have made reservations online, so they can jump the queue (`simpy.PriorityResource`).  If the class wants, we could even say someone has a VIP card that can kick someone off of a pump (`simpy.PreemptiveResource`)."
   ]
  },
  {
   "cell_type": "code",
   "execution_count": null,
   "id": "19a5ac85-fa84-4735-a551-a341bbae603b",
   "metadata": {},
   "outputs": [],
   "source": []
  },
  {
   "cell_type": "code",
   "execution_count": null,
   "id": "0e46334e-8379-4bcd-bac8-4252f83357f9",
   "metadata": {},
   "outputs": [],
   "source": []
  },
  {
   "cell_type": "markdown",
   "id": "3566bffc-77be-4e29-8ae9-902b99e84bbe",
   "metadata": {},
   "source": [
    "We could even use interrupts in a non-mean way, to indicate when a driver might have just gotten a text message and needs to leave and be somewhere instead.  Let's discuss how to model this event!"
   ]
  },
  {
   "cell_type": "code",
   "execution_count": null,
   "id": "387d1122-2bd5-4af8-ac26-2fccf8f81ebd",
   "metadata": {},
   "outputs": [],
   "source": []
  },
  {
   "cell_type": "code",
   "execution_count": null,
   "id": "e3a1b410-01e4-44a7-8dbb-28d32c321f28",
   "metadata": {},
   "outputs": [],
   "source": []
  },
  {
   "cell_type": "markdown",
   "id": "6ab8ef65-c159-4717-a107-230d06fbd8d4",
   "metadata": {},
   "source": [
    "## Using a `class` to define more complex items that have multiple simultaneous processes\n",
    "\n",
    "In the initialization, make sure to do two things:\n",
    "1. Create a `<classname>_reactivate` member that is a generic `Event` that can be used to trigger interrupts.\n",
    "2. Define each member function as having a `process` for each process that the complex item does.\n",
    "\n",
    "Let's make our EV a bit fancier!  We can add the following:\n",
    "1. We now keep track of our battery level.\n",
    "2. We have a solar charger on our EV that automatically charges once we drive, and disengages on interrupt (if we drive).\n",
    "\n",
    "Let's make a simulation where our driver will drive to the mall, shop for some random time, then come back and drive away (which should interrupt the solar charging process)."
   ]
  },
  {
   "cell_type": "code",
   "execution_count": null,
   "id": "3127fa0a-7a5c-4473-8963-ae064793e9eb",
   "metadata": {},
   "outputs": [],
   "source": []
  },
  {
   "cell_type": "code",
   "execution_count": null,
   "id": "43e58650-86e5-4625-abcc-ab228aa41f7d",
   "metadata": {},
   "outputs": [],
   "source": []
  },
  {
   "cell_type": "markdown",
   "id": "6cdaa508-88c5-4fee-806a-c3212533e5b3",
   "metadata": {},
   "source": [
    "## Monitoring your SimPy simulation\n",
    "\n",
    "There are three ways to go about monitoring a simulation, in order from easy to difficult:\n",
    "1. Implement your own monitoring harness (basically, add input/output parameters for monitoring into your process functions)\n",
    "2. Patching (creating a wrapper) for Simpy `Events` ([see this link](https://simpy.readthedocs.io/en/latest/topical_guides/monitoring.html#event-tracing))\n",
    "3. Patching (creating a wrapper) for SimPy `Resources` ([see this link](https://simpy.readthedocs.io/en/latest/topical_guides/monitoring.html#resource-usage))"
   ]
  },
  {
   "cell_type": "markdown",
   "id": "697ed2a8-ea88-4f46-abeb-b3cdae766ad8",
   "metadata": {},
   "source": [
    "# Using SimPy for real-time ECE problems\n",
    "\n",
    "Turns out that SimPy also has a RealtimeEnvironment, which lets you synchronize events with wall-clock time.\n",
    "\n",
    "This means that we can perform the following simulations:\n",
    "1. Hardware-in-the-loop testing (VERY useful in electronics, embedded systems, and medical devices)\n",
    "2. Testing that requires human interaction (energy, sustainability, etc.)\n",
    "\n",
    "**Let's discuss:** what might be an event-based simulation problem in your specialization"
   ]
  },
  {
   "cell_type": "code",
   "execution_count": null,
   "id": "32e93e87-2ac0-4bde-9bb9-edd22814f767",
   "metadata": {},
   "outputs": [],
   "source": []
  },
  {
   "cell_type": "code",
   "execution_count": null,
   "id": "8e7ad88e-73de-413f-904a-cb451599261d",
   "metadata": {},
   "outputs": [],
   "source": []
  }
 ],
 "metadata": {
  "kernelspec": {
   "display_name": "Python 3 (ipykernel)",
   "language": "python",
   "name": "python3"
  },
  "language_info": {
   "codemirror_mode": {
    "name": "ipython",
    "version": 3
   },
   "file_extension": ".py",
   "mimetype": "text/x-python",
   "name": "python",
   "nbconvert_exporter": "python",
   "pygments_lexer": "ipython3",
   "version": "3.9.7"
  },
  "toc-autonumbering": true
 },
 "nbformat": 4,
 "nbformat_minor": 5
}
