{
 "cells": [
  {
   "cell_type": "markdown",
   "id": "f350cfa6-e5d5-4ec1-9725-de7c85ec93b1",
   "metadata": {},
   "source": [
    "# Event-based Simulation with SimPy"
   ]
  },
  {
   "cell_type": "code",
   "execution_count": null,
   "id": "88c96fd6-714e-4206-9170-6457bf0da069",
   "metadata": {},
   "outputs": [],
   "source": [
    "import simpy as sp\n",
    "import numpy as np\n",
    "import scipy.stats"
   ]
  },
  {
   "cell_type": "markdown",
   "id": "8c1075ba-48e3-4797-9ebe-ea3d400aa385",
   "metadata": {},
   "source": [
    "## SimPy Basics\n",
    "\n",
    "SimPy has a few basic concepts to let you perform event-based simulation:\n",
    "1. **Environment:** think of this as \"the world\" in which your simulation occurs\n",
    "2. **Event:** an event that occurs in the environment -- it can be a happening, from time ticking to an action occurring\n",
    "3. **Process:** described by Python generator functions -- they create events and `yield` (yeet) them out to the world\n",
    "4. **Timeout:** a special time-based event, that describes how long it takes for an event to occur (assumed units)\n",
    "5. **Resource:** an object representing a resource that can be acquired or released by Processes (gas station with limited fuel pumps)\n",
    "6. **Container:** an object representing a resource that can be produced or consumed (like electrical power or apples)\n",
    "7. **Store:** an object representing a store that can replenish or sell its items (dynamic quantities)\n",
    "\n",
    "One thing that is key about event-based simulation is that, much like embedded systems, all processes are **interruptible** by priority, meaning that processes can be at different priorities (just like real life).\n",
    "\n",
    "If you need to yield multiple events (actions) at a time, use the `&` operator.  If you need to yield at least one event (whichever event is closest), use the `|` operator."
   ]
  },
  {
   "cell_type": "markdown",
   "id": "c44bdc8e-3c30-4a78-9c90-2dea976c2d40",
   "metadata": {},
   "source": [
    "### DMV customer example\n",
    "\n",
    "Just to show everything in context, I'll modify the [Bank example](https://simpy.readthedocs.io/en/latest/examples/bank_renege.html) to the DMV:"
   ]
  },
  {
   "cell_type": "code",
   "execution_count": null,
   "id": "746a1f55-af1e-4879-991d-eb234933f1dd",
   "metadata": {},
   "outputs": [],
   "source": [
    "RANDOM_SEED = 42\n",
    "NEW_CUSTOMERS = 5  # Total number of customers\n",
    "INTERVAL_CUSTOMERS = 10.0  # Generate new customers roughly every x seconds\n",
    "MIN_PATIENCE = 1  # Min. customer patience\n",
    "MAX_PATIENCE = 3  # Max. customer patience\n",
    "\n",
    "\n",
    "def source(env, number, interval, counter, the_rng):\n",
    "    \"\"\"Source generates customers randomly\"\"\"\n",
    "    for i in range(number):\n",
    "        c = customer(env, 'Customer%02d' % i, counter, time_in_bank=12.0)\n",
    "        env.process(c)\n",
    "        t = the_rng.exponential(interval)\n",
    "        yield env.timeout(t)\n",
    "\n",
    "\n",
    "def customer(env, name, counter, time_in_bank, the_rng):\n",
    "    \"\"\"Customer arrives, is served and leaves.\"\"\"\n",
    "    arrive = env.now\n",
    "    print('%7.4f %s: Here I am' % (arrive, name))\n",
    "\n",
    "    with counter.request() as req:\n",
    "        patience = the_rng.uniform(MIN_PATIENCE, MAX_PATIENCE)\n",
    "        # Wait for the counter or abort at the end of our tether\n",
    "        results = yield req | env.timeout(patience)\n",
    "\n",
    "        wait = env.now - arrive\n",
    "\n",
    "        if req in results:\n",
    "            # We got to the counter\n",
    "            print('%7.4f %s: Waited %6.3f' % (env.now, name, wait))\n",
    "\n",
    "            tib = the_rng.exponential(time_in_bank)\n",
    "            yield env.timeout(tib)\n",
    "            print('%7.4f %s: Finished' % (env.now, name))\n",
    "\n",
    "        else:\n",
    "            # We reneged\n",
    "            print('%7.4f %s: RENEGED after %6.3f' % (env.now, name, wait))\n",
    "\n",
    "\n",
    "# Setup and start the simulation\n",
    "print('SIMULATION: DMV in all of its glory')\n",
    "the_rng = np.random.default_rng(RANDOM_SEED)\n",
    "env = simpy.Environment()\n",
    "\n",
    "# Start processes and run\n",
    "counter = simpy.Resource(env, capacity=1)\n",
    "env.process(source(env, NEW_CUSTOMERS, INTERVAL_CUSTOMERS, counter))\n",
    "env.run()"
   ]
  },
  {
   "cell_type": "markdown",
   "id": "298b8c2b-41a4-4b6d-b6d3-348f88d07b15",
   "metadata": {},
   "source": [
    "### Sample SimPy problem\n",
    "\n",
    "Let's perform a simulation of four electric cars (EV, electric vehicles) trying to drive to and use a battery charging station. A car will perform three actions:\n",
    "1. Driving to the EV charging station (accept the driving time as an input parameter).\n",
    "2. Request/acquire a charging spot.\n",
    "3. Charge the battery (accept the time it takes to charge the battery as an input parameter).\n",
    "\n",
    "Define the charging station as only having two spots, so we have a likely chance of at least one car waiting for charging to complete.\n",
    "Let's use a uniform distribution between 2 and 6 miles to model the distance each car has to drive in order to reach the EV charging station. Let's also assume that the cars can drive 35 miles per hour to reach the charging station.  Let's also use a uniform distribution to model the number of minutes that each car has to charge, from 30 minutes to 90 minutes.\n",
    "\n",
    "LPT: Don't forget the random seed!"
   ]
  },
  {
   "cell_type": "code",
   "execution_count": null,
   "id": "122ae4a2-b39f-4fe7-9d95-757fc9e5f726",
   "metadata": {},
   "outputs": [],
   "source": []
  },
  {
   "cell_type": "code",
   "execution_count": null,
   "id": "bb46fdc6-8c82-4bb6-96f7-d7060bc936a9",
   "metadata": {},
   "outputs": [],
   "source": []
  },
  {
   "cell_type": "markdown",
   "id": "7757a8c4-e550-4326-bcfb-39aa543c815e",
   "metadata": {},
   "source": [
    "## Handling priorities and interrupts\n",
    "\n",
    "Let's bump the EV charging simulation up now, to 10 cars, and pretend that a couple of the cars have made reservations online, so they can jump the queue (`simpy.PriorityResource`).  If the class wants, we could even say someone has a VIP card that can kick someone off of a pump (`simpy.PreemptiveResource`)."
   ]
  },
  {
   "cell_type": "code",
   "execution_count": null,
   "id": "19a5ac85-fa84-4735-a551-a341bbae603b",
   "metadata": {},
   "outputs": [],
   "source": []
  },
  {
   "cell_type": "code",
   "execution_count": null,
   "id": "0e46334e-8379-4bcd-bac8-4252f83357f9",
   "metadata": {},
   "outputs": [],
   "source": []
  },
  {
   "cell_type": "markdown",
   "id": "3566bffc-77be-4e29-8ae9-902b99e84bbe",
   "metadata": {},
   "source": [
    "We could even use interrupts in a non-mean way, to indicate when a driver might have just gotten a text message and needs to leave and be somewhere instead.  Let's discuss how to model this event!"
   ]
  },
  {
   "cell_type": "code",
   "execution_count": null,
   "id": "387d1122-2bd5-4af8-ac26-2fccf8f81ebd",
   "metadata": {},
   "outputs": [],
   "source": []
  },
  {
   "cell_type": "code",
   "execution_count": null,
   "id": "e3a1b410-01e4-44a7-8dbb-28d32c321f28",
   "metadata": {},
   "outputs": [],
   "source": []
  },
  {
   "cell_type": "markdown",
   "id": "6ab8ef65-c159-4717-a107-230d06fbd8d4",
   "metadata": {},
   "source": [
    "## Using a `class` to define more complex items that have multiple simultaneous processes\n",
    "\n",
    "In the initialization, make sure to do two things:\n",
    "1. Create a `<classname>_reactivate` member that is a generic `Event` that can be used to trigger interrupts.\n",
    "2. Define each member function as having a `process` for each process that the complex item does.\n",
    "\n",
    "Let's make our EV a bit fancier!  We can add the following:\n",
    "1. We now keep track of our battery level.\n",
    "2. We have a solar charger on our EV that automatically charges once we drive, and disengages on interrupt (if we drive).\n",
    "\n",
    "Let's make a simulation where our driver will drive to the mall, shop for some random time, then come back and drive away (which should interrupt the solar charging process)."
   ]
  },
  {
   "cell_type": "code",
   "execution_count": null,
   "id": "3127fa0a-7a5c-4473-8963-ae064793e9eb",
   "metadata": {},
   "outputs": [],
   "source": []
  },
  {
   "cell_type": "code",
   "execution_count": null,
   "id": "43e58650-86e5-4625-abcc-ab228aa41f7d",
   "metadata": {},
   "outputs": [],
   "source": []
  },
  {
   "cell_type": "markdown",
   "id": "6cdaa508-88c5-4fee-806a-c3212533e5b3",
   "metadata": {},
   "source": [
    "## Monitoring your SimPy simulation\n",
    "\n",
    "There are three ways to go about monitoring a simulation, in order from easy to difficult:\n",
    "1. Implement your own monitoring harness (basically, add input/output parameters for monitoring into your process functions)\n",
    "2. Patching (creating a wrapper) for Simpy `Events` ([see this link](https://simpy.readthedocs.io/en/latest/topical_guides/monitoring.html#event-tracing))\n",
    "3. Patching (creating a wrapper) for SimPy `Resources` ([see this link](https://simpy.readthedocs.io/en/latest/topical_guides/monitoring.html#resource-usage))"
   ]
  },
  {
   "cell_type": "markdown",
   "id": "697ed2a8-ea88-4f46-abeb-b3cdae766ad8",
   "metadata": {},
   "source": [
    "# Using SimPy for real-time ECE problems\n",
    "\n",
    "Turns out that SimPy also has a RealtimeEnvironment, which lets you synchronize events with wall-clock time.\n",
    "\n",
    "This means that we can perform the following simulations:\n",
    "1. Hardware-in-the-loop testing (VERY useful in electronics, embedded systems, and medical devices)\n",
    "2. Testing that requires human interaction (energy, sustainability, etc.)\n",
    "\n",
    "**Let's discuss:** what might be an event-based simulation problem in your specialization"
   ]
  },
  {
   "cell_type": "code",
   "execution_count": null,
   "id": "32e93e87-2ac0-4bde-9bb9-edd22814f767",
   "metadata": {},
   "outputs": [],
   "source": []
  },
  {
   "cell_type": "code",
   "execution_count": null,
   "id": "8e7ad88e-73de-413f-904a-cb451599261d",
   "metadata": {},
   "outputs": [],
   "source": []
  }
 ],
 "metadata": {
  "kernelspec": {
   "display_name": "Python 3 (ipykernel)",
   "language": "python",
   "name": "python3"
  },
  "language_info": {
   "codemirror_mode": {
    "name": "ipython",
    "version": 3
   },
   "file_extension": ".py",
   "mimetype": "text/x-python",
   "name": "python",
   "nbconvert_exporter": "python",
   "pygments_lexer": "ipython3",
   "version": "3.9.7"
  },
  "toc-autonumbering": true
 },
 "nbformat": 4,
 "nbformat_minor": 5
}
