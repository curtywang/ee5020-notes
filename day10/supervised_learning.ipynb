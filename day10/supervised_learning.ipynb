{
 "cells": [
  {
   "cell_type": "code",
   "execution_count": 1,
   "id": "2b31b79d-d5a8-4f39-9902-bcba719c6052",
   "metadata": {},
   "outputs": [],
   "source": [
    "import statsmodels.api\n",
    "import statsmodels.formula.api\n",
    "import numpy as np\n",
    "import pandas as pd\n",
    "import scipy.stats\n",
    "import matplotlib.pyplot as plt\n",
    "import sklearn"
   ]
  },
  {
   "cell_type": "markdown",
   "id": "976b15e9-6c4e-43b5-88cf-ecd5a8be02cb",
   "metadata": {
    "tags": []
   },
   "source": [
    "# Time-series Analysis"
   ]
  },
  {
   "cell_type": "markdown",
   "id": "e0c49ee2-db04-4615-9ab6-e2ddfdb20eb0",
   "metadata": {},
   "source": [
    "## Deterministic vs. Stochastic Processes\n",
    "\n",
    "1. **What is a deterministic process?**: Next values depend on previous or known steps\n",
    "2. **What is an example of a deterministic process?**:\n",
    "3. **What is a stochastic process?**: Doesn't depend on previous steps, \"random\"\n",
    "4. **Are most physical phenomena deterministic or stochastic?**: Stochastic"
   ]
  },
  {
   "cell_type": "markdown",
   "id": "d9ca8e91-c49c-4d40-b0c7-2d7fb3c668c5",
   "metadata": {},
   "source": [
    "## Time-series patterns\n",
    "\n",
    "1. **Stationarity**: mean and stdev constant over time\n",
    "2. **Trend**: changes in mean over time\n",
    "3. **Seasonality**: Systemic, periodic variation\n",
    "\n",
    "![Air Passenger Data time-series example](air_log_transform.PNG)\n",
    "\n",
    "*Figure 1: Air passenger time-series data and log transform of data.*\n",
    "\n",
    "![Air Passenger Data time-series example](air_log_trend.png) ![Air Passenger Data time-series example](air_log_seasonality.png)\n",
    "\n",
    "*Figure 2: Components for trend (left) of log transform of air data and seasonality (right) of log transform of air data.*\n",
    "\n",
    "\n",
    "![Air Passenger Data time-series example](air_log_residual.png)\n",
    "\n",
    "*Figure 3: Residual component of log transform of air data.*\n"
   ]
  },
  {
   "cell_type": "markdown",
   "id": "9e54398a-c947-4211-b655-afde5f8e2fa3",
   "metadata": {},
   "source": [
    "## Forecasting time-series data\n",
    "\n",
    "Using the log of the data can help with stabilizing standard deviation. Assuming stationarity with linear decomposition techniques:\n",
    "\n",
    "$y_t = m_t + s_t + r_t$ where $y_t$ is the value of the time series, $m_t$ is the trend component, $s_t$ is the seasonality component, and $r_t$ is a residual component.\n",
    "\n",
    "Try using `statsmodels.tsa.seasonal.seasonal_decompose()` with the `https://static-resources.zybooks.com/static/AirPassengers.csv` dataset:"
   ]
  },
  {
   "cell_type": "code",
   "execution_count": null,
   "id": "73502b3d-6921-4280-8544-4ff3e4d2b6c7",
   "metadata": {},
   "outputs": [],
   "source": []
  },
  {
   "cell_type": "markdown",
   "id": "b295ffad-b6cf-4a2d-93ee-94ef3e66e4f6",
   "metadata": {},
   "source": [
    "## Error (cost or loss) functions for forecasting\n",
    "\n",
    "- **Mean squared error (MSE):** $\\frac{1}{n} \\sum_{i=1}^{n} e_i^2$\n",
    "- **Mean absolute error (MAE):** $\\frac{1}{n} \\sum_{i=1}^{n} |e_i|$\n",
    "- **Mean absolute percentage error (MAPE):** $100\\% \\cdot \\frac{1}{n} \\sum_{i=1}^{n} |\\frac{e_i}{y_i}|$\n",
    "- Even more metrics! See the [scikit-learn documentation](https://scikit-learn.org/stable/modules/model_evaluation.html#regression-metrics) for more.\n",
    "\n",
    "Let's write functions for these using `numpy`:"
   ]
  },
  {
   "cell_type": "code",
   "execution_count": null,
   "id": "65a35601-8c4c-4ee6-9665-95c4c14e154f",
   "metadata": {},
   "outputs": [],
   "source": []
  },
  {
   "cell_type": "markdown",
   "id": "4b4908d5-20f7-469d-b165-4ae82a52c257",
   "metadata": {},
   "source": [
    "# Supervised Machine Learning"
   ]
  },
  {
   "cell_type": "markdown",
   "id": "227c9773-0c75-4a27-a599-e2caa399b571",
   "metadata": {},
   "source": [
    "## Getting started\n",
    "\n",
    "- **Machine learning:** Generic term for computer algorithms that build models based on sample data\n",
    "- **Task:** What the statistical model does (classification vs. regression vs. clustering)\n",
    "- **Features:** Properties, attributes, or predictors of a dataset\n",
    "- **Supervised learning:** Estimator optimization using known data labels (\"correct\" data)\n",
    "\n",
    "We will be using the [`scikit-learn`](https://scikit-learn.org) library, which is shortened to `sklearn` in code. Go ahead and use `mamba` to install `scikit-learn`.\n",
    "\n",
    "## Choosing the machine learning estimator to use\n",
    "\n",
    "There's a [convenient chart](https://scikit-learn.org/stable/tutorial/machine_learning_map/index.html) available on scikit-learn's documentation.  There's also a [massive list of all of the types of supervised learning](https://scikit-learn.org/stable/supervised_learning.html) that exists in `sklearn`."
   ]
  },
  {
   "cell_type": "markdown",
   "id": "b2f74be2-1ac9-457a-b4b5-db2dc9b25388",
   "metadata": {},
   "source": [
    "## Trying out some regression on the Diabetes dataset"
   ]
  },
  {
   "cell_type": "markdown",
   "id": "3472a7b5-2937-418a-8355-009c57a86914",
   "metadata": {},
   "source": [
    "First, load the Diabetes dataset, using `sklearn.datasets.load_diabetes()` as a DataFrame:"
   ]
  },
  {
   "cell_type": "code",
   "execution_count": 6,
   "id": "fc9c112a-bee9-4109-971b-e48d6272417a",
   "metadata": {},
   "outputs": [
    {
     "name": "stdout",
     "output_type": "stream",
     "text": [
      "Data:\n",
      "        age       sex       bmi        bp        s1        s2        s3  \\\n",
      "0  0.038076  0.050680  0.061696  0.021872 -0.044223 -0.034821 -0.043401   \n",
      "1 -0.001882 -0.044642 -0.051474 -0.026328 -0.008449 -0.019163  0.074412   \n",
      "2  0.085299  0.050680  0.044451 -0.005671 -0.045599 -0.034194 -0.032356   \n",
      "3 -0.089063 -0.044642 -0.011595 -0.036656  0.012191  0.024991 -0.036038   \n",
      "4  0.005383 -0.044642 -0.036385  0.021872  0.003935  0.015596  0.008142   \n",
      "\n",
      "         s4        s5        s6  \n",
      "0 -0.002592  0.019908 -0.017646  \n",
      "1 -0.039493 -0.068330 -0.092204  \n",
      "2 -0.002592  0.002864 -0.025930  \n",
      "3  0.034309  0.022692 -0.009362  \n",
      "4 -0.002592 -0.031991 -0.046641  \n",
      "Target:\n",
      "0    151.0\n",
      "1     75.0\n",
      "2    141.0\n",
      "3    206.0\n",
      "4    135.0\n",
      "Name: target, dtype: float64\n"
     ]
    }
   ],
   "source": [
    "import sklearn.datasets\n",
    "\n",
    "bunch_diabetes = sklearn.datasets.load_diabetes(as_frame=True)\n",
    "# print(bunch_diabetes['DESCR'])\n",
    "df_diabetes_data = bunch_diabetes['data']\n",
    "df_diabetes_target = bunch_diabetes['target']\n",
    "print(f\"Data:\\n{df_diabetes_data.head()}\")\n",
    "print(f\"Target:\\n{df_diabetes_target.head()}\")"
   ]
  },
  {
   "cell_type": "markdown",
   "id": "d9da2772-2dfa-40f9-9fbd-3d18cb428e43",
   "metadata": {},
   "source": [
    "Next, let's just try ordinary least squares (but from `sklearn.linear_model.LinearRegression()`) with it:"
   ]
  },
  {
   "cell_type": "code",
   "execution_count": 14,
   "id": "9c02147c-d1b2-498a-bc44-6c36bf70d466",
   "metadata": {},
   "outputs": [
    {
     "name": "stdout",
     "output_type": "stream",
     "text": [
      "fit score: 0.5177494254132934\n",
      "coef names: ['age' 'sex' 'bmi' 'bp' 's1' 's2' 's3' 's4' 's5' 's6']\n",
      "coefficients: [ -10.01219782 -239.81908937  519.83978679  324.39042769 -792.18416163\n",
      "  476.74583782  101.04457032  177.06417623  751.27932109   67.62538639]\n",
      "intercept: 152.1334841628965\n"
     ]
    }
   ],
   "source": [
    "import sklearn.linear_model\n",
    "\n",
    "regress_diabetes_model = sklearn.linear_model.LinearRegression()\n",
    "regress_diabetes_model.fit(df_diabetes_data, df_diabetes_target)\n",
    "print(f\"fit score: {regress_diabetes_model.score(df_diabetes_data, df_diabetes_target)}\")\n",
    "print(f\"coef names: {regress_diabetes_model.feature_names_in_}\")\n",
    "print(f\"coefficients: {regress_diabetes_model.coef_}\")\n",
    "print(f\"intercept: {regress_diabetes_model.intercept_}\")"
   ]
  },
  {
   "cell_type": "markdown",
   "id": "f8a6f85e-38ee-4f24-b4e2-deffa377c2da",
   "metadata": {},
   "source": [
    "Now, we can try another model, such as `Ridge`, `Lasso`, or `ElasticNet`:"
   ]
  },
  {
   "cell_type": "code",
   "execution_count": null,
   "id": "f3142303-d81e-4105-95d7-c8048e5eedb1",
   "metadata": {},
   "outputs": [],
   "source": []
  },
  {
   "cell_type": "markdown",
   "id": "57e5d993-b763-4d2d-a889-47c8b7a42878",
   "metadata": {},
   "source": [
    "Let's try something different -- the Support Vector Machine (SVM), `sklearn.svm.SVR()`:"
   ]
  },
  {
   "cell_type": "code",
   "execution_count": null,
   "id": "004bc3a3-ebc6-4da1-bbca-1f17b42d6c41",
   "metadata": {},
   "outputs": [],
   "source": []
  },
  {
   "cell_type": "markdown",
   "id": "6d03d3e2-1347-46e9-9e80-672028c77fd1",
   "metadata": {},
   "source": [
    "## What's the catch?\n",
    "\n",
    "How do we know we are overfitting, underfitting, etc.? "
   ]
  },
  {
   "cell_type": "code",
   "execution_count": null,
   "id": "1ac42424-f3e6-44a8-8733-61f9818732e5",
   "metadata": {},
   "outputs": [],
   "source": []
  }
 ],
 "metadata": {
  "kernelspec": {
   "display_name": "Python 3 (ipykernel)",
   "language": "python",
   "name": "python3"
  },
  "language_info": {
   "codemirror_mode": {
    "name": "ipython",
    "version": 3
   },
   "file_extension": ".py",
   "mimetype": "text/x-python",
   "name": "python",
   "nbconvert_exporter": "python",
   "pygments_lexer": "ipython3",
   "version": "3.8.6"
  }
 },
 "nbformat": 4,
 "nbformat_minor": 5
}
