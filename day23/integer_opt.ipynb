{
 "cells": [
  {
   "cell_type": "markdown",
   "id": "491c8cdd-42db-4034-bc2f-2f554603d9f2",
   "metadata": {},
   "source": [
    "# Black-box Optimization in Python"
   ]
  },
  {
   "cell_type": "markdown",
   "id": "e79ddfb9-06d2-47bd-a79d-327eb62bf587",
   "metadata": {
    "jp-MarkdownHeadingCollapsed": true,
    "tags": []
   },
   "source": [
    "You've probably noticed that the SciPy optimization routines, and indeed most optimization routines, assume a continuous parameter.  However, there come cases when you would like to use a discrete parameter, such as $n$ in HW4.\n",
    "\n",
    "There are two different strategies:\n",
    "1. Pick an optimization method that accepts the parameter as an integer constraint\n",
    "2. Round the parameter input within the objective function\n",
    "\n",
    "Either of these strategies work, it is up to you.  Generally strategy 2 is easiest, since you don't need to find a specific algorithm.  Strategy 1 will require an algorithm that supports integer constraints, like `RBFOpt` (these are tricky to install sometimes).\n",
    "\n",
    "## Black-box (derivative-free) optimization libraries\n",
    "\n",
    "<!-- Numerical engineers really like to use Fortran, so make sure to install `flang` (Fortran language compiler) first! -->\n",
    "\n",
    "Some of these packages are broken on Windows in `conda-forge` due to the Fortran compiler required. Numerical engineers tend to use Fortran since it's very close to the applied mathematics. So, you'll have to use `pip` to install rather than `mamba`.\n",
    "\n",
    "Here are the different libraries that provide black-box optimization:\n",
    "- `scipy.optimize` (see the differential_evolution() and dual_annealing() functions)\n",
    "- `PDFO` (Powell's Derivative-Free Optimization)\n",
    "- `scikit-quant` (aka `skquant`, from Lawrence Berkeley National Laboratory)\n",
    "- `nevergrad` (Facebook Research's Never Gradient Optimizers)\n",
    "- `RBFOpt` (IBM Watson's derivative-free optimization)\n"
   ]
  },
  {
   "cell_type": "markdown",
   "id": "2768701a-ad48-4b42-ba7b-d84025974038",
   "metadata": {},
   "source": [
    "## Why do we need a special optimizer for integer or black-box optimization?\n",
    "\n",
    "Short but not technically correct answer: There is no gradient with integers (since integers are not real numbers), so gradient-based methods (most optimization methods) will not work.\n",
    "\n",
    "The true answer is a bit more complicated.  General functions (black-box functions) are usually nonlinear, so linear optimization functions will not work.  In addition, integer constraints make any optimization problem NP-complete (as in, [nondeterministic-polynomial compute time](https://en.wikipedia.org/wiki/NP-completeness)), so the algorithms that solve these problems are usually special in some transformation of the problem.\n",
    "\n",
    "## Example using rounding (strategy 2)\n",
    "\n",
    "We can pretend that we only accept integers for the squaring function, and try to find the minimal x for the square function:"
   ]
  },
  {
   "cell_type": "code",
   "execution_count": 1,
   "id": "f72a0ce6-00a6-4580-9e84-27232a09f346",
   "metadata": {},
   "outputs": [],
   "source": [
    "import scipy.optimize\n",
    "import matplotlib.pyplot as plt\n",
    "import numpy as np\n",
    "from typing import Union"
   ]
  },
  {
   "cell_type": "code",
   "execution_count": 2,
   "id": "40f0116f-bd22-490a-8d85-2d6dbd58f237",
   "metadata": {},
   "outputs": [],
   "source": [
    "def square(a_input: Union[int, float]) -> Union[int, float]:\n",
    "    a = np.rint(a_input)\n",
    "    return np.square(a)"
   ]
  },
  {
   "cell_type": "markdown",
   "id": "491e7c56-8dfc-4ffb-9088-06630fc3c77c",
   "metadata": {},
   "source": [
    "We know visually that for the base function $f(x) = x^2$ that $x = 0$ would be the minimal in both real and discrete number spaces.  So let's see if we can verify this with differential evolution:"
   ]
  },
  {
   "cell_type": "code",
   "execution_count": 15,
   "id": "d3125486-bf46-4078-9f77-9f4b6024aeed",
   "metadata": {},
   "outputs": [
    {
     "data": {
      "text/plain": [
       "     fun: 0.0\n",
       " message: 'Optimization terminated successfully.'\n",
       "    nfev: 122\n",
       "     nit: 7\n",
       " success: True\n",
       "       x: array([0.47746314])"
      ]
     },
     "execution_count": 15,
     "metadata": {},
     "output_type": "execute_result"
    }
   ],
   "source": [
    "scipy.optimize.differential_evolution(square, bounds=[(-20, 20)])"
   ]
  },
  {
   "cell_type": "markdown",
   "id": "8ed23a09-8024-4cb5-964c-450ad1a0f64e",
   "metadata": {},
   "source": [
    "What are the components of the above output?\n",
    "- `x`: The optimization's final value for the parameter\n",
    "- `nfev`: Number of function evaluations\n",
    "- `nit`: Number of iterations\n",
    "- `fun`: Value of the objective function at the `x` given\n",
    "\n",
    "What do these outputs imply?"
   ]
  },
  {
   "cell_type": "markdown",
   "id": "40651615-c0ec-4d84-aa8d-983b288b4546",
   "metadata": {},
   "source": [
    "Let's do a slightly more complex function, such as a function that isn't so smooth.  Let's define a piecewise black-box function:\n",
    "\n",
    "- If the input $a$ is greater than 3, the output is $a^2 - a$.\n",
    "- If the input $a$ is less than -1, the output is $a^2 + a$.\n",
    "- If the input $-1 \\le a \\le 3$, the output is $a^4 + 10$.\n",
    "\n",
    "One can see why black-box function optimization is useful -- no assumptions are made about the function.\n",
    "\n",
    "Let's begin by plotting the function for $-20 \\le a \\le 20$:"
   ]
  },
  {
   "cell_type": "code",
   "execution_count": 16,
   "id": "e6a1fb97-7fe1-4917-bb49-cc160ec4e8e9",
   "metadata": {},
   "outputs": [],
   "source": [
    "def funny_piecewise(a_in: float) -> float:\n",
    "    a = np.rint(a_in)\n",
    "    if a > 3.0:\n",
    "        return np.power(a, 2) - a\n",
    "    elif a < -1.0:\n",
    "        return np.power(a, 2) + a\n",
    "    else:\n",
    "        return np.power(a, 4) + 10"
   ]
  },
  {
   "cell_type": "code",
   "execution_count": 20,
   "id": "b633c144-696e-42a9-a810-098e1c1472bf",
   "metadata": {},
   "outputs": [
    {
     "data": {
      "text/plain": [
       "[<matplotlib.lines.Line2D at 0x222aee7b8e0>]"
      ]
     },
     "execution_count": 20,
     "metadata": {},
     "output_type": "execute_result"
    },
    {
     "data": {
      "image/png": "[encoded data removed]",
      "text/plain": [
       "<Figure size 720x720 with 1 Axes>"
      ]
     },
     "metadata": {
      "needs_background": "light"
     },
     "output_type": "display_data"
    }
   ],
   "source": [
    "x_range = np.linspace(-20, 20, 40)\n",
    "y_range = [funny_piecewise(x) for x in x_range]\n",
    "plt.figure(figsize=(10, 10))\n",
    "plt.plot(x_range, y_range, label=\"funny piecewise\")"
   ]
  },
  {
   "cell_type": "markdown",
   "id": "a9cda80a-2021-4df1-a95a-fd5a4ebcc883",
   "metadata": {},
   "source": [
    "We see now that the minimal is no longer 0, and is probably closer to -2.  Let's use the `differential_evolution()` function to check:"
   ]
  },
  {
   "cell_type": "code",
   "execution_count": 49,
   "id": "37eb48a6-4ef0-4c13-90f7-a880ab2c7f64",
   "metadata": {},
   "outputs": [
    {
     "data": {
      "text/plain": [
       "     fun: 2.0\n",
       " message: 'Optimization terminated successfully.'\n",
       "    nfev: 92\n",
       "     nit: 5\n",
       " success: True\n",
       "       x: array([-1.91343361])"
      ]
     },
     "execution_count": 49,
     "metadata": {},
     "output_type": "execute_result"
    }
   ],
   "source": [
    "scipy.optimize.differential_evolution(funny_piecewise, bounds=[(-20, 20)])"
   ]
  },
  {
   "cell_type": "markdown",
   "id": "976ded90-57ad-4808-9bf4-a357d1a49fd9",
   "metadata": {},
   "source": [
    "What do we end up getting?"
   ]
  },
  {
   "cell_type": "markdown",
   "id": "e9d77b8a-7218-479f-a735-877b767a109d",
   "metadata": {
    "tags": []
   },
   "source": [
    "## Example using `PDFO` on strategy 2\n",
    "\n",
    "To use the `PDFO` library on Windows, install `PDFO` by running the following in mambaforge prompt: `pip install pdfo`"
   ]
  },
  {
   "cell_type": "code",
   "execution_count": 33,
   "id": "49d01ff6-baee-4d26-86f1-0e8b4bfb0f7d",
   "metadata": {},
   "outputs": [],
   "source": [
    "import pdfo"
   ]
  },
  {
   "cell_type": "code",
   "execution_count": 52,
   "id": "bdfe9176-173c-4d55-aba8-d6cc5f1465eb",
   "metadata": {},
   "outputs": [
    {
     "data": {
      "text/plain": [
       "OptimizeResult(chist=array([0., 0., 0., 0., 0., 0., 0., 0., 0., 0., 0., 0., 0., 0., 0., 0., 0.,\n",
       "       0., 0., 0.]), constrviolation=0.0, fhist=array([ 90.,  72., 110.,  56.,  30.,   2.,  10.,   6.,   2.,   2.,   2.,\n",
       "         2.,   2.,   2.,   2.,   2.,   2.,   2.,   2.,   2.]), fun=2.0, message='Return from bobyqa because the lower bound for the trust region radius is reached.', method='bobyqa', nfev=20, status=0, success=True, x=array([-2.]))"
      ]
     },
     "execution_count": 52,
     "metadata": {},
     "output_type": "execute_result"
    }
   ],
   "source": [
    "pdfo.pdfo(funny_piecewise, x0=[-10], bounds=[(-20, 20)])"
   ]
  },
  {
   "cell_type": "markdown",
   "id": "8816bb33-c8fe-41af-a556-bb10832d875b",
   "metadata": {},
   "source": [
    "We can see that the PDFO library automatically chooses BOBYQA based on the inputs, and it required only 20 function evaluations to find the minimum at -2.  We can also tell from the `fhist` return that it found this quite a while ago, but probably tried a few different variations around $x = -2$ before finally returning."
   ]
  },
  {
   "cell_type": "markdown",
   "id": "264afdc4-f4ed-4160-a15a-090f32f6e3e2",
   "metadata": {},
   "source": [
    "## Example using derivative-free methods in `scipy.optimize.minimize()`"
   ]
  },
  {
   "cell_type": "code",
   "execution_count": 65,
   "id": "31ee15ec-1449-479b-b048-dbd6f591c1bd",
   "metadata": {},
   "outputs": [
    {
     "data": {
      "text/plain": [
       "   direc: array([[1.]])\n",
       "     fun: array(10.)\n",
       " message: 'Optimization terminated successfully.'\n",
       "    nfev: 58\n",
       "     nit: 2\n",
       "  status: 0\n",
       " success: True\n",
       "       x: array([0.26321565])"
      ]
     },
     "execution_count": 65,
     "metadata": {},
     "output_type": "execute_result"
    }
   ],
   "source": [
    "scipy.optimize.minimize(funny_piecewise, x0=[-10], bounds=[(-20, 20)], method='Powell')"
   ]
  },
  {
   "cell_type": "markdown",
   "id": "5f694f19-d127-4b74-90ea-9b7dc8e22d4c",
   "metadata": {},
   "source": [
    "The Powell method from SciPy doesn't seem to work as well as the true Powell methods in PDFO above."
   ]
  },
  {
   "cell_type": "code",
   "execution_count": 66,
   "id": "5ed842ca-3500-4423-add7-f1ae9c8f7c8a",
   "metadata": {},
   "outputs": [
    {
     "data": {
      "text/plain": [
       "     fun: 2.0\n",
       "   maxcv: 0.0\n",
       " message: 'Optimization terminated successfully.'\n",
       "    nfev: 15\n",
       "  status: 1\n",
       " success: True\n",
       "       x: array([-2.])"
      ]
     },
     "execution_count": 66,
     "metadata": {},
     "output_type": "execute_result"
    }
   ],
   "source": [
    "constraints = [\n",
    "    {'type': 'ineq', 'fun': lambda x: x - -20},\n",
    "    {'type': 'ineq', 'fun': lambda x: 20 - x}\n",
    "]\n",
    "\n",
    "scipy.optimize.minimize(funny_piecewise, x0=[-10], constraints=constraints, method='COBYLA')"
   ]
  },
  {
   "cell_type": "markdown",
   "id": "fd6529fb-7198-48cb-8662-df7ab2fd0365",
   "metadata": {},
   "source": [
    "However, COBYLA (which is also inside PDFO), seems to work pretty well.  The syntax is a little odd in terms of describing the bounds, since COBYLA can only take constraints (no bounds)."
   ]
  },
  {
   "cell_type": "code",
   "execution_count": null,
   "id": "d7009566-6211-4d35-9b1e-d0d89352f0ba",
   "metadata": {},
   "outputs": [],
   "source": []
  }
 ],
 "metadata": {
  "kernelspec": {
   "display_name": "Python 3",
   "language": "python",
   "name": "python3"
  },
  "language_info": {
   "codemirror_mode": {
    "name": "ipython",
    "version": 3
   },
   "file_extension": ".py",
   "mimetype": "text/x-python",
   "name": "python",
   "nbconvert_exporter": "python",
   "pygments_lexer": "ipython3",
   "version": "3.9.7"
  }
 },
 "nbformat": 4,
 "nbformat_minor": 5
}
