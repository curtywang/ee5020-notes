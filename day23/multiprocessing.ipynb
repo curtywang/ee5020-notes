{
 "cells": [
  {
   "cell_type": "markdown",
   "id": "4507b8d4-cc03-437c-9fb1-68001236fc83",
   "metadata": {},
   "source": [
    "# Multiprocessing in Python\n",
    "\n",
    "What happens if we need to do a lot of computation, and vectorization with NumPy is not enough? \n",
    "\n",
    "Basically: How can we assign different tasks to different cores or processors?\n",
    "\n",
    "## Multiprocessing systems/interfaces\n",
    "\n",
    "There are a few types of multiprocessing interfaces we can use, in order of easy to difficult:\n",
    "\n",
    "| Interface | When to use |\n",
    "|-----------|-------------|\n",
    "| concurrent.futures.ProcessPoolExecutor | The modern way to launch parallel tasks. Usable for everything that takes a long time and needs to run on only one computer. |\n",
    "| mpi4py.futures.MPIPoolExecutor | The modern way to run scalable parallel tasks on computer clusters. Use for long tasks that need to run on more than one computer. |\n",
    "| multiprocess | An improved version of the built-in `multiprocessing` library. A bit more manual than the pools. |\n",
    "| multiprocessing | The classic built-in library.  You probably will be using a part of this (like the Manager), but other components are trickier than the concurrent.futures implementation. |\n",
    "| mpi4py classic | A bit beyond the scope of this class. |\n"
   ]
  },
  {
   "cell_type": "code",
   "execution_count": 1,
   "id": "c61c39c4-e9a7-41fd-b011-9612b8dc303a",
   "metadata": {},
   "outputs": [],
   "source": [
    "import concurrent.futures\n",
    "import time\n",
    "import long_functions"
   ]
  },
  {
   "cell_type": "code",
   "execution_count": 2,
   "id": "6572b257-e27b-4b36-bcc9-09ff47ce5a54",
   "metadata": {},
   "outputs": [],
   "source": [
    "def serial_task():\n",
    "    possible_params = [3, 5, 10, 15]\n",
    "    starting_time = time.time()\n",
    "    for n in possible_params:\n",
    "        long_functions.really_hard_task(n)\n",
    "    duration_time = time.time() - starting_time\n",
    "    print(f\"Took {duration_time:.2f} s\")"
   ]
  },
  {
   "cell_type": "code",
   "execution_count": 3,
   "id": "aa33f869-1b56-48d5-91ed-c5731aeab618",
   "metadata": {},
   "outputs": [
    {
     "name": "stdout",
     "output_type": "stream",
     "text": [
      "finished task crunching 3 with result 0.11\n",
      "finished task crunching 5 with result 0.05\n",
      "finished task crunching 10 with result 0.28\n",
      "finished task crunching 15 with result 0.94\n",
      "Took 8.04 s\n"
     ]
    }
   ],
   "source": [
    "serial_task()"
   ]
  },
  {
   "cell_type": "code",
   "execution_count": 15,
   "id": "cf421230-5a9c-4172-8631-c2110987b44f",
   "metadata": {},
   "outputs": [
    {
     "name": "stdout",
     "output_type": "stream",
     "text": [
      "[0.20724996676662955, 0.1254745967454749, 0.8664232287156962, 0.8340359255525761, 0.0017337226089754187, 0.8690424981520508]\n",
      "Took 4.58 s\n"
     ]
    }
   ],
   "source": [
    "possible_params = [3, 5, 10, 15, 17, 20]\n",
    "with concurrent.futures.ProcessPoolExecutor(max_workers=4) as ppe:\n",
    "    starting_time = time.time()\n",
    "    the_futures = ppe.map(long_functions.really_hard_task, possible_params)\n",
    "    print(list(the_futures))\n",
    "    duration_time = time.time() - starting_time\n",
    "    print(f\"Took {duration_time:.2f} s\")"
   ]
  },
  {
   "cell_type": "markdown",
   "id": "c344681e-0473-4761-b58c-4c4d53ec7541",
   "metadata": {},
   "source": [
    "What happens if we run too many workers at once?"
   ]
  },
  {
   "cell_type": "code",
   "execution_count": 21,
   "id": "318b2c3c-6553-44bc-af1f-a46430784231",
   "metadata": {},
   "outputs": [
    {
     "name": "stdout",
     "output_type": "stream",
     "text": [
      "[(2.0818426000000003, 0.46002758938601807), (2.079698, 0.38821834384052334), (2.0494889, 0.25627659113577117), (2.0574234000000002, 0.6112536963756398), (2.0002123, 0.015806798895283247), (2.0286079, 0.5601639456884568), (2.0063168, 0.8920934469282835), (2.0250826, 0.1395229536742053), (2.0010885, 0.9766091664377412), (2.0291446, 0.8343231677551194), (2.0006616, 0.4377725500481673), (2.0006008, 0.5825156998280913), (2.0004179, 0.4129245877479223), (2.0010774000000002, 0.4648283465467955), (2.0150069999999998, 0.48304946333931253), (2.0012633, 0.5643367886213527), (2.0573891, 0.42180645058951927), (2.0011395999999997, 0.06682621589679816), (2.0105072, 0.6316946418454051), (2.0045592, 0.6472864818983082), (2.0009552999999998, 0.26689059620006894), (2.0004841, 0.9281988421156807)]\n",
      "Took 3.28 s\n"
     ]
    }
   ],
   "source": [
    "possible_params = range(1, 45, 2)\n",
    "# I have 16 cores on my computer\n",
    "with concurrent.futures.ProcessPoolExecutor(max_workers=32) as ppe:\n",
    "    starting_time = time.time()\n",
    "    the_futures = ppe.map(long_functions.really_hard_task, possible_params)\n",
    "    print(list(the_futures))\n",
    "    duration_time = time.time() - starting_time\n",
    "    print(f\"Took {duration_time:.2f} s\")"
   ]
  },
  {
   "cell_type": "markdown",
   "id": "78cd9142-9f62-4847-bd98-3e96f1f0d86e",
   "metadata": {},
   "source": [
    "If you want to run a lot of workers, you can try it on DevCloud!"
   ]
  },
  {
   "cell_type": "code",
   "execution_count": null,
   "id": "f76dd185-049f-4ea8-956f-ac48f1749c60",
   "metadata": {},
   "outputs": [],
   "source": []
  },
  {
   "cell_type": "markdown",
   "id": "8121fca3-fd0b-4af8-a5b8-32c17f068512",
   "metadata": {},
   "source": [
    "## Basic Linear Algebra Problems in Multiprocessing\n",
    "\n",
    "Turns out that the Math Kernel Library or any other basic linear algebra system (BLAS) sometimes will try to be sneaky and do multiprocessing/multithreading on its own.  However, this conflicts with your own code, so make sure to do this before importing numpy or any other packages:\n",
    "\n",
    "```\n",
    "import os\n",
    "os.environ['OMP_NUM_THREADS'] = '1'\n",
    "os.environ['MKL_NUM_THREADS'] = '1'\n",
    "\n",
    "# now you can import numpy and other packages\n",
    "import numpy as np\n",
    "import scipy.stats\n",
    "# etc.\n",
    "```"
   ]
  },
  {
   "cell_type": "code",
   "execution_count": null,
   "id": "4ad7fa87-6112-47e1-8fe7-4382e7acef5b",
   "metadata": {},
   "outputs": [],
   "source": []
  },
  {
   "cell_type": "code",
   "execution_count": null,
   "id": "c7a2f734-6e6b-4267-8973-f8a6d5576c10",
   "metadata": {},
   "outputs": [],
   "source": []
  },
  {
   "cell_type": "code",
   "execution_count": null,
   "id": "dc7504a6-085f-4d7c-a3c3-9d77db9f7992",
   "metadata": {},
   "outputs": [],
   "source": []
  },
  {
   "cell_type": "code",
   "execution_count": null,
   "id": "fa32ad43-b58b-44b5-b811-1e5210e95805",
   "metadata": {},
   "outputs": [],
   "source": []
  },
  {
   "cell_type": "code",
   "execution_count": null,
   "id": "e457f48d-58ba-49e4-ae66-40fee89ffe52",
   "metadata": {},
   "outputs": [],
   "source": []
  },
  {
   "cell_type": "code",
   "execution_count": null,
   "id": "b361f0c2-098d-46c2-8423-08239c1274a5",
   "metadata": {},
   "outputs": [],
   "source": []
  },
  {
   "cell_type": "code",
   "execution_count": null,
   "id": "4029d96a-4a74-42bb-a143-e867473efb25",
   "metadata": {},
   "outputs": [],
   "source": []
  }
 ],
 "metadata": {
  "kernelspec": {
   "display_name": "Python 3",
   "language": "python",
   "name": "python3"
  },
  "language_info": {
   "codemirror_mode": {
    "name": "ipython",
    "version": 3
   },
   "file_extension": ".py",
   "mimetype": "text/x-python",
   "name": "python",
   "nbconvert_exporter": "python",
   "pygments_lexer": "ipython3",
   "version": "3.9.7"
  }
 },
 "nbformat": 4,
 "nbformat_minor": 5
}
