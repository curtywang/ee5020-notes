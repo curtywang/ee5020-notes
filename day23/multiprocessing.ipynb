{
 "cells": [
  {
   "cell_type": "markdown",
   "id": "4507b8d4-cc03-437c-9fb1-68001236fc83",
   "metadata": {},
   "source": [
    "# Multiprocessing in Python\n",
    "\n",
    "What happens if we need to do a lot of computation, and vectorization with NumPy is not enough? \n",
    "\n",
    "Basically: How can we assign different tasks to different cores or processors?\n",
    "\n",
    "## Multiprocessing systems/interfaces\n",
    "\n",
    "There are a few types of multiprocessing interfaces we can use, in order of easy to difficult:\n",
    "\n",
    "| Interface | When to use |\n",
    "|-----------|-------------|\n",
    "| concurrent.futures.ProcessPoolExecutor | The modern way to launch parallel tasks. Usable for everything that takes a long time and needs to run on only one computer. |\n",
    "| mpi4py.futures.MPIPoolExecutor | The modern way to run scalable parallel tasks on computer clusters. Use for long tasks that need to run on more than one computer. |\n",
    "| multiprocess | An improved version of the built-in `multiprocessing` library. A bit more manual than the pools. |\n",
    "| multiprocessing | The classic built-in library.  You probably will be using a part of this (like the Manager), but other components are trickier than the concurrent.futures implementation. |\n",
    "| mpi4py classic | A bit beyond the scope of this class. |\n"
   ]
  },
  {
   "cell_type": "code",
   "execution_count": null,
   "id": "a76d0381-56dc-4f7b-80d2-903bff60d837",
   "metadata": {},
   "outputs": [],
   "source": []
  },
  {
   "cell_type": "code",
   "execution_count": null,
   "id": "6572b257-e27b-4b36-bcc9-09ff47ce5a54",
   "metadata": {},
   "outputs": [],
   "source": []
  },
  {
   "cell_type": "code",
   "execution_count": null,
   "id": "cf421230-5a9c-4172-8631-c2110987b44f",
   "metadata": {},
   "outputs": [],
   "source": []
  },
  {
   "cell_type": "code",
   "execution_count": null,
   "id": "267a64b5-542b-402b-a801-7e9281ffe015",
   "metadata": {},
   "outputs": [],
   "source": []
  },
  {
   "cell_type": "code",
   "execution_count": null,
   "id": "e93852f7-718d-412f-b8af-c8ed2797d42f",
   "metadata": {},
   "outputs": [],
   "source": []
  },
  {
   "cell_type": "code",
   "execution_count": null,
   "id": "4ad7fa87-6112-47e1-8fe7-4382e7acef5b",
   "metadata": {},
   "outputs": [],
   "source": []
  },
  {
   "cell_type": "code",
   "execution_count": null,
   "id": "c7a2f734-6e6b-4267-8973-f8a6d5576c10",
   "metadata": {},
   "outputs": [],
   "source": []
  },
  {
   "cell_type": "code",
   "execution_count": null,
   "id": "dc7504a6-085f-4d7c-a3c3-9d77db9f7992",
   "metadata": {},
   "outputs": [],
   "source": []
  },
  {
   "cell_type": "code",
   "execution_count": null,
   "id": "fa32ad43-b58b-44b5-b811-1e5210e95805",
   "metadata": {},
   "outputs": [],
   "source": []
  },
  {
   "cell_type": "code",
   "execution_count": null,
   "id": "e457f48d-58ba-49e4-ae66-40fee89ffe52",
   "metadata": {},
   "outputs": [],
   "source": []
  },
  {
   "cell_type": "code",
   "execution_count": null,
   "id": "b361f0c2-098d-46c2-8423-08239c1274a5",
   "metadata": {},
   "outputs": [],
   "source": []
  },
  {
   "cell_type": "code",
   "execution_count": null,
   "id": "4029d96a-4a74-42bb-a143-e867473efb25",
   "metadata": {},
   "outputs": [],
   "source": []
  }
 ],
 "metadata": {
  "kernelspec": {
   "display_name": "Python 3 (ipykernel)",
   "language": "python",
   "name": "python3"
  },
  "language_info": {
   "codemirror_mode": {
    "name": "ipython",
    "version": 3
   },
   "file_extension": ".py",
   "mimetype": "text/x-python",
   "name": "python",
   "nbconvert_exporter": "python",
   "pygments_lexer": "ipython3",
   "version": "3.9.7"
  }
 },
 "nbformat": 4,
 "nbformat_minor": 5
}
