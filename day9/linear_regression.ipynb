{
 "cells": [
  {
   "cell_type": "markdown",
   "id": "976b15e9-6c4e-43b5-88cf-ecd5a8be02cb",
   "metadata": {
    "tags": []
   },
   "source": [
    "# Linear Regression"
   ]
  },
  {
   "cell_type": "markdown",
   "id": "e0c49ee2-db04-4615-9ab6-e2ddfdb20eb0",
   "metadata": {},
   "source": [
    "## Linear regression model definitions\n",
    "\n",
    "- Population: $ E(Y) = \\beta_0 + \\beta_1 X $\n",
    "\n",
    "- Model: $ Y = \\beta_0 + \\beta_1 X + \\epsilon $, where $\\epsilon$ is a RV: $\\epsilon \\sim N(0, \\sigma) = Y - E(Y) $\n",
    "\n",
    "![Linear Regression assumptions](linear_regression.png)\n",
    "\n",
    "*Figure 1: The statistical assumptions behind linear regression.  The model assumes that the error is normally distributed with constant variance.*"
   ]
  },
  {
   "cell_type": "markdown",
   "id": "63a49bcb-082d-46e3-b920-591541bad759",
   "metadata": {},
   "source": [
    "## Creating statistical (frequentist) models\n",
    "\n",
    "![Pearson correlation table](pearson.png)\n",
    "\n",
    "*Figure 2: Pearson correlation coefficient values and strengths of correlation.*\n",
    "\n",
    "1. Run Pearson correlation coefficient $R$ to check correlation: `scipy.stats.pearsonr(ind_var, dep_var)`.\n",
    "2. Define a cost function (e.g. sum of squared errors).\n",
    "3. Run the fit (e.g. least-squares) to minimize the cost function to generate $\\hat{Y} = b_0 + b_1 X$: `statsmodels.api.ols(model, data).fit()`.\n",
    "4. Plot residuals for goodness of fit (lack of patterns in residuals).\n",
    "5. Check the coefficient of determination (R-squared) and p-values to check that error variances do not account for majority of data. This is usually why ANOVA `statsmodels.api.stats.anova_lm(model, typ=2)` is run together with linear regression fitting.\n",
    "6. Use `prediction.summary_frame()` to get intervals. Prediction intervals (obs_ci*) quantify uncertainty of an individual value given an $x$. Confidence intervals (mean_ci*) quantify uncertainty of population means given an $x$.\n",
    "\n",
    "Try this below to see if floor area can be used to model the home price in `homes.csv`:"
   ]
  },
  {
   "cell_type": "code",
   "execution_count": null,
   "id": "d6f66edc-e82a-4ae4-a4df-0369cbe6ffd1",
   "metadata": {},
   "outputs": [],
   "source": []
  },
  {
   "cell_type": "markdown",
   "id": "ae187262-a904-40be-bfe8-f2b777673ca2",
   "metadata": {},
   "source": [
    "Try linear regression on heights and GPAs in `gpa.csv`:"
   ]
  },
  {
   "cell_type": "code",
   "execution_count": null,
   "id": "ec8362dd-30f1-45e6-bc51-82e1f7bc3fb1",
   "metadata": {},
   "outputs": [],
   "source": []
  },
  {
   "cell_type": "markdown",
   "id": "9959ffe4-c5c7-4483-9f3b-a3155816b87a",
   "metadata": {},
   "source": [
    "## Multiple regression\n",
    "\n",
    "There is not much difference when adding additional predictors.  Let's try this on `Cars.csv`:"
   ]
  },
  {
   "cell_type": "code",
   "execution_count": null,
   "id": "e428ac0a-55de-4733-a616-38ff1e4a42fb",
   "metadata": {},
   "outputs": [],
   "source": []
  },
  {
   "cell_type": "markdown",
   "id": "10293a61-23dd-47d0-b5ea-f68734239774",
   "metadata": {},
   "source": [
    "If Pearson shows correlation between predictors, we can include an interaction term (the product of two terms we think are related).  Let's explore `internetusage.csv`:"
   ]
  },
  {
   "cell_type": "code",
   "execution_count": null,
   "id": "3b590447-1c10-4b5c-be36-d33b368e97b5",
   "metadata": {},
   "outputs": [],
   "source": []
  },
  {
   "cell_type": "markdown",
   "id": "c3f6a5fc-d739-4da8-be8a-a28279df6a6d",
   "metadata": {},
   "source": [
    "## Classification via regression\n",
    "\n",
    "You can even create classification models via regression, by assigning numerical labels to categorical predictors!\n",
    "\n",
    "Pandas provides `pd.get_dummies` to facilitate this!  Try it on `Heating.csv`:"
   ]
  },
  {
   "cell_type": "code",
   "execution_count": null,
   "id": "412a29e6-22a6-4995-bb4b-db943444ecf1",
   "metadata": {},
   "outputs": [],
   "source": []
  },
  {
   "cell_type": "code",
   "execution_count": null,
   "id": "ab1467f2-697e-4a92-8ffd-090ba14011f2",
   "metadata": {},
   "outputs": [],
   "source": []
  }
 ],
 "metadata": {
  "kernelspec": {
   "display_name": "Python 3 (ipykernel)",
   "language": "python",
   "name": "python3"
  },
  "language_info": {
   "codemirror_mode": {
    "name": "ipython",
    "version": 3
   },
   "file_extension": ".py",
   "mimetype": "text/x-python",
   "name": "python",
   "nbconvert_exporter": "python",
   "pygments_lexer": "ipython3",
   "version": "3.8.6"
  }
 },
 "nbformat": 4,
 "nbformat_minor": 5
}
