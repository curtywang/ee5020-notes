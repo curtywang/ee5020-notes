{
 "cells": [
  {
   "cell_type": "markdown",
   "metadata": {},
   "source": [
    "# Microblaze Python Interface Libraries\n",
    "\n",
    "In addition to using the `pynqmb` libraries from C it is also possible to create Python wrappers for the libraries directly. PYNQ provides the `MicroblazeLibrary` class for this purpose.\n",
    "\n",
    "The `MicroblazeLibrary` class takes a list of libraries as a construction parameter which should be the names of the header files desired without the `.h` file extension. All of the constants and functions will then become members of the instance of the class.\n",
    "\n",
    "For this example we are going to interact with the Adafruit V2 Motor Shield that exposes a PCA9685 chip. We are going to want the `i2c` library for interacting with the device."
   ]
  },
  {
   "cell_type": "markdown",
   "metadata": {},
   "source": [
    "## Setting up the FPGA for the Arduino Microblaze\n",
    "\n",
    "First, we load the Arduino Microblaze overlay into the FPGA and then the I2C driver."
   ]
  },
  {
   "cell_type": "code",
   "execution_count": null,
   "metadata": {},
   "outputs": [],
   "source": [
    "from pynq.overlays.base import BaseOverlay\n",
    "from pynq.lib import MicroblazeLibrary\n",
    "import time\n",
    "import math\n",
    "\n",
    "base = BaseOverlay('base.bit')  # load overlay into the Programmable Logic FPGA portion\n",
    "lib = MicroblazeLibrary(base.ARDUINO, ['i2c'])  # load the i2c driver using the ARDUINO MicroBlaze IO Processor"
   ]
  },
  {
   "cell_type": "markdown",
   "metadata": {},
   "source": [
    "Let's double-check that we can access the I2C driver by asking for the number of I2C driver devices available in this MicroBlaze IOP (Input-Output Processor):"
   ]
  },
  {
   "cell_type": "code",
   "execution_count": null,
   "metadata": {
    "scrolled": true
   },
   "outputs": [],
   "source": [
    "lib.i2c_get_num_devices()"
   ]
  },
  {
   "cell_type": "markdown",
   "metadata": {},
   "source": [
    "## Working with the Arduino Microblaze's I2C controller\n",
    "\n",
    "If we have at least one I2C controller device from the above cell, then we are cleared to use I2C!\n",
    "\n",
    "Next we need to open our I2C device using the `i2c_open` function. This will return us an `i2c` object we can use for interacting with the bus."
   ]
  },
  {
   "cell_type": "code",
   "execution_count": null,
   "metadata": {},
   "outputs": [],
   "source": [
    "i2c_master = lib.i2c_open_device(0)"
   ]
  },
  {
   "cell_type": "markdown",
   "metadata": {},
   "source": [
    "Below are helper functions so that you can read and write to I2C node device memories."
   ]
  },
  {
   "cell_type": "code",
   "execution_count": null,
   "metadata": {},
   "outputs": [],
   "source": [
    "def read_i2c_dev_reg(i2c_master, device_addr, reg_addr, num_bytes):\n",
    "    \"\"\"\n",
    "    Read an I2C device's memory.\n",
    "    \n",
    "    :param i2c_master: the I2C Master device (Arduino MicroBlaze)\n",
    "    :param device_addr: the I2C Node Address (accessory device)\n",
    "    :param reg_addr: the register address on the I2C node to read\n",
    "    :param num_bytes: the number of bytes to read\n",
    "    \"\"\"\n",
    "    i2c_buffer = bytearray(num_bytes + 1)\n",
    "    i2c_buffer[0] = reg_addr\n",
    "    i2c_master.write(device_addr, i2c_buffer, 1)  # write the address\n",
    "    i2c_master.read(device_addr, i2c_buffer, num_bytes)  # read the bytes back\n",
    "    return i2c_buffer[0:num_bytes]\n",
    "\n",
    "\n",
    "def write_i2c_dev_reg(i2c_master, device_addr, reg_addr, new_value, num_bytes):\n",
    "    \"\"\"\n",
    "    Write to an I2C device's memory.\n",
    "    \n",
    "    :param i2c_master: the I2C Master device (Arduino MicroBlaze)\n",
    "    :param device_addr: the I2C Node Address (accessory device)\n",
    "    :param reg_addr: the register address on the I2C node to read\n",
    "    :param new_value: the new value to write to the register\n",
    "    :param num_bytes: the number of bytes to write\n",
    "    \"\"\"\n",
    "    i2c_buffer = bytearray(num_bytes + 1)\n",
    "    i2c_buffer[0] = reg_addr\n",
    "    for idx in range(num_bytes, 0, -1):\n",
    "        i2c_buffer[idx] = new_value >> (8 * (idx - 1)) & 0xFF  # restrict to one byte\n",
    "    i2c_master.write(device_addr, i2c_buffer, num_bytes + 1)  # write the address\n",
    "    return i2c_buffer\n",
    "\n",
    "\n",
    "def write_i2c_dev_reg_bytes(i2c_master, device_addr, reg_addr, new_bytes):\n",
    "    \"\"\"\n",
    "    Write to an I2C device's memory.\n",
    "    \n",
    "    :param i2c_master: the I2C Master device (Arduino MicroBlaze)\n",
    "    :param device_addr: the I2C Node Address (accessory device)\n",
    "    :param reg_addr: the register address on the I2C node to read\n",
    "    :param new_bytes: the new bytearray to write to the memory\n",
    "    \"\"\"\n",
    "    num_bytes = len(new_bytes)\n",
    "    i2c_buffer = bytearray(num_bytes + 1)\n",
    "    i2c_buffer[0] = reg_addr\n",
    "    for idx, byte in enumerate(new_bytes):\n",
    "        i2c_buffer[idx+1] = byte\n",
    "    i2c_master.write(device_addr, i2c_buffer, num_bytes + 1)  # write the address\n",
    "    return i2c_buffer\n"
   ]
  },
  {
   "cell_type": "markdown",
   "metadata": {},
   "source": [
    "## Using the Arduino Microblaze to interact with the PCA9685 Motor Driver\n",
    "\n",
    "### Motor Driver Setup\n",
    "\n",
    "Now we can use the helper functions to help us double-check various values inside the PCA9685 from the datasheet:"
   ]
  },
  {
   "cell_type": "code",
   "execution_count": null,
   "metadata": {},
   "outputs": [],
   "source": [
    "I2C_ADDRESS_AFMS = 0x60\n",
    "\n",
    "\"\"\" Check for default value of 0x04 in reg 0x01 \"\"\"\n",
    "result = read_i2c_dev_reg(i2c_master, I2C_ADDRESS_AFMS, 0x01, 1)\n",
    "print(result.hex())\n",
    "\n",
    "\"\"\" Enable register auto-increment \"\"\"\n",
    "result = write_i2c_dev_reg(i2c_master, I2C_ADDRESS_AFMS, 0x00, 0x20, 1)\n",
    "print(result.hex())\n",
    "\n",
    "\"\"\" Check for register auto-increment, value of 0x20 in reg 0x00 \"\"\"\n",
    "result = read_i2c_dev_reg(i2c_master, I2C_ADDRESS_AFMS, 0x00, 1)\n",
    "print(result.hex())"
   ]
  },
  {
   "cell_type": "markdown",
   "metadata": {},
   "source": [
    "Let's go ahead and set the PWM frequency to 1600 Hz.  This procedure is just copied from the Arduino library written by Adafruit."
   ]
  },
  {
   "cell_type": "code",
   "execution_count": null,
   "metadata": {},
   "outputs": [],
   "source": [
    "def amfs_set_pwm_freq(i2c_master, i2c_addr=0x60, pwm_freq=1600) -> bool:\n",
    "    \"\"\"\n",
    "    Set the PWM output frequency coming out of the AFMS.\n",
    "    \n",
    "    :param i2c_master: the I2C Master device (Arduino MicroBlaze)\n",
    "    :param i2c_addr: the Adafruit Motor Shield I2C address\n",
    "    :param pwm_freq: the base square wave frequency of the PWM output\n",
    "    \"\"\"\n",
    "    pwm_freq_fixed = pwm_freq * 0.9  # due to overshoot problem\n",
    "    prescaleval = math.floor(25000000 / 4096 / pwm_freq - 1 + 0.5)\n",
    "    oldmode = read_i2c_dev_reg(i2c_master, I2C_ADDRESS_AFMS, 0x00, 1)[0]\n",
    "    newmode = (oldmode & 0x7F) | 0x10\n",
    "    write_i2c_dev_reg(i2c_master, I2C_ADDRESS_AFMS, 0x00, newmode, 1)\n",
    "    write_i2c_dev_reg(i2c_master, I2C_ADDRESS_AFMS, 0xFE, prescaleval, 1)\n",
    "    write_i2c_dev_reg(i2c_master, I2C_ADDRESS_AFMS, 0x00, oldmode, 1)\n",
    "    time.sleep(5e-3)\n",
    "    write_i2c_dev_reg(i2c_master, I2C_ADDRESS_AFMS, 0x00, oldmode | 0xa1, 1)\n",
    "    result = read_i2c_dev_reg(i2c_master, I2C_ADDRESS_AFMS, 0xFE, 1)\n",
    "    return result == prescaleval"
   ]
  },
  {
   "cell_type": "markdown",
   "metadata": {},
   "source": [
    "We can call the function defined above now:"
   ]
  },
  {
   "cell_type": "code",
   "execution_count": null,
   "metadata": {},
   "outputs": [],
   "source": [
    "amfs_set_pwm_freq(i2c_master, I2C_ADDRESS_AFMS, 1600)"
   ]
  },
  {
   "cell_type": "markdown",
   "metadata": {},
   "source": [
    "### Motor Output Setup\n",
    "\n",
    "Now that the motor driver itself is set up, we can choose the outputs we want.  Looking back from the schematic and the Adafruit Arduino source code, we see that the motor outputs are tied to different pins of our motor driver.  Our motor driver is actually a combination of the PCA9685 PWM driver integrated circuit and four H-bridges that are controlled by PWM.  The H-bridges need three inputs for each motor: PWM (motor speed), in1 (motor direction 1), and in2 (motor direction 2).  If in1 is ON and in2 is OFF, the motor will run one direction.  If in1 is OFF and in2 is ON, the motor will run the opposite direction.  If both in1 and in2 are OFF or ON, the H-bridge will release the motor (no power applied).\n",
    "\n",
    "Here is a table that shows this:\n",
    "\n",
    "| Motor   | PWM | in2  | in1  |\n",
    "|---------|-----|------|------|\n",
    "| M1      |  8  |  9   |  10  |\n",
    "| M2      |  13 |  12  |  11  |\n",
    "| M3      |  2  |  3   |  4   |\n",
    "| M4      |  7  |  6   |  5   |\n",
    "\n",
    "\n",
    "Below is a function that will help you write values to the motor driver.\n",
    "\n",
    "To turn a pin (in2 or in1) ON, give it an on_start=4096 and off_start=0.\n",
    "\n",
    "To turn a pin (in2 or in1) OFF, give it an on_start=0 and off_start=0.\n",
    "\n",
    "To set the speed pin (PWM), give it an on_start=0 and off_start=(a value in [1,4095]).\n",
    "\n",
    "You should set the motor speed before you turn the motor on."
   ]
  },
  {
   "cell_type": "code",
   "execution_count": null,
   "metadata": {},
   "outputs": [],
   "source": [
    "def amfs_set_pin_starts(\n",
    "    pin_set: int, \n",
    "    on_start: int, \n",
    "    off_start: int, \n",
    "    i2c_master, \n",
    "    i2c_addr=0x60) -> bool:\n",
    "    \"\"\"\n",
    "    Set the pin output counts for when the ON (high) and OFF (low) periods of the PWM signals should start.\n",
    "\n",
    "    :param pin_set: the pin to set the counts for\n",
    "    :param on_start: the value of the on counts\n",
    "    :param off_start: the value of the off counts\n",
    "    :param i2c_master: the i2c controller object\n",
    "    :param i2c_addr: the i2c address of the motor shield PCA9685\n",
    "    :returns: True if command was successful\n",
    "    \"\"\"\n",
    "    pca_pin_reg_base = 0x06\n",
    "    pca_pin_reg_addr = pca_pin_reg_base + 4 * pin_set\n",
    "    pca_pin_vals = bytearray(4)\n",
    "    pca_pin_vals[0] = on_start & 0xFF\n",
    "    pca_pin_vals[1] = (on_start >> 8) & 0xFF\n",
    "    pca_pin_vals[2] = off_start & 0xFF\n",
    "    pca_pin_vals[3] = (off_start >> 8) & 0xFF\n",
    "    write_i2c_dev_reg_bytes(i2c_master, i2c_addr, pca_pin_reg_addr, pca_pin_vals)\n",
    "    result = read_i2c_dev_reg(i2c_master, i2c_addr, pca_pin_reg_addr, 4)\n",
    "    return result == pca_pin_vals"
   ]
  },
  {
   "cell_type": "markdown",
   "metadata": {},
   "source": [
    "Let's give it a try in the cell below!  Set a motor to have some speed, then turn it on!"
   ]
  },
  {
   "cell_type": "code",
   "execution_count": null,
   "metadata": {},
   "outputs": [],
   "source": []
  }
 ],
 "metadata": {
  "kernelspec": {
   "display_name": "Python 3",
   "language": "python",
   "name": "python3"
  },
  "language_info": {
   "codemirror_mode": {
    "name": "ipython",
    "version": 3
   },
   "file_extension": ".py",
   "mimetype": "text/x-python",
   "name": "python",
   "nbconvert_exporter": "python",
   "pygments_lexer": "ipython3",
   "version": "3.6.5"
  }
 },
 "nbformat": 4,
 "nbformat_minor": 2
}
