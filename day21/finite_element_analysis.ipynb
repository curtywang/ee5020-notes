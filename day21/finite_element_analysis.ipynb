{
 "cells": [
  {
   "cell_type": "markdown",
   "id": "a09b874b-65e0-4619-92ba-daaedeb57a3e",
   "metadata": {},
   "source": [
    "# Finite Element Analysis\n",
    "\n",
    "## Why would we want to use finite element analysis?\n",
    "\n",
    "Systematic method for solving systems of ordinary and partial differential equations ODEs/PDEs on geometries.  In other words, rather than a pure mathematical approach, we can use a geometrical (2D or 3D) approach.  This means that we can now simulate how the physics of a real design might behave.  The finite element method (FEM), the bases of finite element analysis (FEA) solves boundary value problems for ODEs/PDEs. The system can be evaluated in a transient or steady-state simulation as usual.\n",
    "\n",
    "## Components of finite element analysis\n",
    "\n",
    "- Domain: the geometry of the system (including the environment)\n",
    "- Discretization: the process of breaking up the domain into little pieces (elements) over which the ODE/PDE can be evaluated\n",
    "- Mesh: the discretized geometry of the domains\n",
    "- Element: the little piece of the domain of which an ODE/PDE can be evaluated"
   ]
  },
  {
   "cell_type": "markdown",
   "id": "2fafa8c8-d93b-4c57-8a28-7bb0b986af2e",
   "metadata": {},
   "source": [
    "## The basic idea\n",
    "\n",
    "### Estimation of a 1D solution piecewise\n",
    "\n",
    "![discretization](https://upload.wikimedia.org/wikipedia/commons/thumb/8/85/Finite_element_method_1D_illustration1.png/330px-Finite_element_method_1D_illustration1.png)\n",
    "\n",
    "### Estimation of a 2D solution piecewise\n",
    "\n",
    "![discretization 2d](https://upload.wikimedia.org/wikipedia/commons/thumb/6/6d/Piecewise_linear_function2D.svg/330px-Piecewise_linear_function2D.svg.png)"
   ]
  },
  {
   "cell_type": "markdown",
   "id": "4eb180a6-ef36-4c4c-8516-a6b100d08b22",
   "metadata": {},
   "source": [
    "### Discretization of a circular domain\n",
    "\n",
    "![discretization 2d](https://upload.wikimedia.org/wikipedia/commons/thumb/d/d1/Finite_element_triangulation.svg/330px-Finite_element_triangulation.svg.png)\n",
    "\n",
    "### Steady-state solution of a boundary value problem on a 2D circular domain\n",
    "\n",
    "![Solution 2d](https://upload.wikimedia.org/wikipedia/commons/thumb/a/a9/Finite_element_solution.svg/330px-Finite_element_solution.svg.png)\n",
    "\n",
    "### Example discretization of 3D joint\n",
    "\n",
    "![mesh of 3D joint](https://upload.wikimedia.org/wikipedia/commons/thumb/3/3b/Human_knee_joint_FE_model.png/368px-Human_knee_joint_FE_model.png)"
   ]
  },
  {
   "cell_type": "code",
   "execution_count": null,
   "id": "cdf78bd9-8278-4a83-90d9-3c382eedda69",
   "metadata": {},
   "outputs": [],
   "source": []
  },
  {
   "cell_type": "code",
   "execution_count": null,
   "id": "f8182f24-6e21-438c-a621-05a1e2a9034e",
   "metadata": {},
   "outputs": [],
   "source": []
  },
  {
   "cell_type": "code",
   "execution_count": null,
   "id": "a1e961f5-b1e7-44a6-b07c-be0306759693",
   "metadata": {},
   "outputs": [],
   "source": []
  }
 ],
 "metadata": {
  "kernelspec": {
   "display_name": "Python 3 (ipykernel)",
   "language": "python",
   "name": "python3"
  },
  "language_info": {
   "codemirror_mode": {
    "name": "ipython",
    "version": 3
   },
   "file_extension": ".py",
   "mimetype": "text/x-python",
   "name": "python",
   "nbconvert_exporter": "python",
   "pygments_lexer": "ipython3",
   "version": "3.9.7"
  },
  "toc-autonumbering": true
 },
 "nbformat": 4,
 "nbformat_minor": 5
}
