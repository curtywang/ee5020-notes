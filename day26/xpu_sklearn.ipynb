{
 "cells": [
  {
   "cell_type": "markdown",
   "id": "1df11fda-8e78-4e85-bc1e-bce22af21b40",
   "metadata": {},
   "source": [
    "# Using xPUs for faster regression modeling\n",
    "\n",
    "## Using `sklearnex` and `daal4py` (Intel Data AI/Analytics Library for Python)\n",
    "\n",
    "### External links:\n",
    "\n",
    "`sklearnex`: https://intel.github.io/scikit-learn-intelex/\n",
    "`daal4py`: https://intelpython.github.io/daal4py/\n",
    "\n",
    "### Modes of operation\n",
    "\n",
    "1. Patching `sklearn` for `oneMKL`-integrated CPU-based training\n",
    "2. Distributed training across computers/CPUs\n",
    "3. Training on heterogeneous computers using `SYCL`"
   ]
  },
  {
   "cell_type": "code",
   "execution_count": null,
   "id": "c5ab9a6b-f4e2-46eb-ac82-c0a089baaaf6",
   "metadata": {},
   "outputs": [],
   "source": [
    "!pip install seaborn --user"
   ]
  },
  {
   "cell_type": "markdown",
   "id": "6dcfec4f-3164-425e-93c8-6b6bd374ae08",
   "metadata": {},
   "source": [
    "### Patching `sklearn` for `oneMKL`-accelerated CPU-based training\n",
    "\n",
    "Basically, all you have to do is import `daal4py.sklearn` and then call `daal4py.sklearn.patch_sklearn()`:"
   ]
  },
  {
   "cell_type": "code",
   "execution_count": null,
   "id": "5a064779-47f5-4322-bf08-e0d28da7b43b",
   "metadata": {},
   "outputs": [],
   "source": [
    "import sklearnex\n",
    "import pandas as pd\n",
    "import numpy as np\n",
    "import matplotlib.pyplot as plt\n",
    "import seaborn as sns\n",
    "import sklearn.datasets\n",
    "\n",
    "sklearnex.patch_sklearn()"
   ]
  },
  {
   "cell_type": "code",
   "execution_count": null,
   "id": "b01201bc-62ce-471d-8513-6b1c329fd664",
   "metadata": {},
   "outputs": [],
   "source": [
    "cal_dataset = sklearn.datasets.fetch_california_housing(as_frame=True)\n",
    "cal_dataset.frame.head()"
   ]
  },
  {
   "cell_type": "code",
   "execution_count": null,
   "id": "b3e815e9-c1e1-45cc-97b8-e812e983c6e1",
   "metadata": {},
   "outputs": [],
   "source": [
    "cal_dataset.frame.describe()"
   ]
  },
  {
   "cell_type": "code",
   "execution_count": null,
   "id": "7bdabc01-7e1d-4102-a139-56a99205a104",
   "metadata": {},
   "outputs": [],
   "source": [
    "df_calhousing = cal_dataset.frame.copy()\n",
    "df_calhousing_clean = df_calhousing[df_calhousing[\"AveOccup\"] <= 10].copy()\n",
    "df_calhousing_clean = df_calhousing_clean[df_calhousing_clean[\"AveOccup\"] >= 1].copy()\n",
    "df_calhousing_clean.describe()"
   ]
  },
  {
   "cell_type": "code",
   "execution_count": null,
   "id": "9ad4e592-5bd0-4352-a19f-ed059c6fc652",
   "metadata": {},
   "outputs": [],
   "source": [
    "sns.pairplot(data=cal_dataset.frame.sample(1000))"
   ]
  },
  {
   "cell_type": "code",
   "execution_count": null,
   "id": "9cf4d7ca-e400-4bdd-a637-6598abd53cf4",
   "metadata": {},
   "outputs": [],
   "source": []
  },
  {
   "cell_type": "code",
   "execution_count": null,
   "id": "da4ac363-9eb0-4bfc-b10b-591ac42d3df5",
   "metadata": {},
   "outputs": [],
   "source": []
  },
  {
   "cell_type": "code",
   "execution_count": null,
   "id": "2607a1b0-6704-49d0-b4a4-223ff1bc27ca",
   "metadata": {},
   "outputs": [],
   "source": []
  },
  {
   "cell_type": "code",
   "execution_count": null,
   "id": "0e2354ba-a9e7-4f0f-b064-ab30f0833dff",
   "metadata": {},
   "outputs": [],
   "source": []
  }
 ],
 "metadata": {
  "kernelspec": {
   "display_name": "Python 3.7 (Intel® oneAPI)",
   "language": "python",
   "name": "c009-intel_distribution_of_python_3_oneapi-beta05-python"
  },
  "language_info": {
   "codemirror_mode": {
    "name": "ipython",
    "version": 3
   },
   "file_extension": ".py",
   "mimetype": "text/x-python",
   "name": "python",
   "nbconvert_exporter": "python",
   "pygments_lexer": "ipython3",
   "version": "3.7.11"
  },
  "toc-autonumbering": true
 },
 "nbformat": 4,
 "nbformat_minor": 5
}
